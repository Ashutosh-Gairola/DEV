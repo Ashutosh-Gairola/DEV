{
  "nbformat": 4,
  "nbformat_minor": 0,
  "metadata": {
    "colab": {
      "provenance": [],
      "authorship_tag": "ABX9TyN2+LAHMT3hmbCJ3lBnh2xT",
      "include_colab_link": true
    },
    "kernelspec": {
      "name": "python3",
      "display_name": "Python 3"
    },
    "language_info": {
      "name": "python"
    }
  },
  "cells": [
    {
      "cell_type": "markdown",
      "metadata": {
        "id": "view-in-github",
        "colab_type": "text"
      },
      "source": [
        "<a href=\"https://colab.research.google.com/github/Ashutosh-Gairola/DEV/blob/main/dev_town.ipynb\" target=\"_parent\"><img src=\"https://colab.research.google.com/assets/colab-badge.svg\" alt=\"Open In Colab\"/></a>"
      ]
    },
    {
      "cell_type": "code",
      "execution_count": 1,
      "metadata": {
        "id": "gnjR0sU7Vk2v",
        "outputId": "b5569861-0681-49bc-8fcf-aa56a082b537",
        "colab": {
          "base_uri": "https://localhost:8080/"
        }
      },
      "outputs": [
        {
          "output_type": "stream",
          "name": "stdout",
          "text": [
            "hello\n"
          ]
        }
      ],
      "source": [
        "print(\"hello\")"
      ]
    },
    {
      "cell_type": "code",
      "source": [
        "print(2)"
      ],
      "metadata": {
        "id": "SAR_dBuQbzlv",
        "outputId": "ff33674c-1b90-42de-d9f0-acc3ef7d2d8f",
        "colab": {
          "base_uri": "https://localhost:8080/"
        }
      },
      "execution_count": 2,
      "outputs": [
        {
          "output_type": "stream",
          "name": "stdout",
          "text": [
            "2\n"
          ]
        }
      ]
    },
    {
      "cell_type": "code",
      "source": [
        "x=1000\n"
      ],
      "metadata": {
        "id": "NxjnYvjHb2KE"
      },
      "execution_count": 3,
      "outputs": []
    },
    {
      "cell_type": "code",
      "source": [
        "print(x)"
      ],
      "metadata": {
        "id": "ETgkqqJDb4YV",
        "outputId": "924efc8b-b425-4506-eb0e-dbb9c990971c",
        "colab": {
          "base_uri": "https://localhost:8080/"
        }
      },
      "execution_count": 4,
      "outputs": [
        {
          "output_type": "stream",
          "name": "stdout",
          "text": [
            "1000\n"
          ]
        }
      ]
    },
    {
      "cell_type": "code",
      "source": [
        "x"
      ],
      "metadata": {
        "id": "gBNStAMDb5fU",
        "outputId": "eaf57d7f-3371-4dd7-cdf0-092b6d1cc0e1",
        "colab": {
          "base_uri": "https://localhost:8080/"
        }
      },
      "execution_count": 5,
      "outputs": [
        {
          "output_type": "execute_result",
          "data": {
            "text/plain": [
              "1000"
            ]
          },
          "metadata": {},
          "execution_count": 5
        }
      ]
    },
    {
      "cell_type": "code",
      "source": [
        "string=\"my name is raararara\""
      ],
      "metadata": {
        "id": "hkPs3PoHb5yb"
      },
      "execution_count": 6,
      "outputs": []
    },
    {
      "cell_type": "code",
      "source": [
        "string"
      ],
      "metadata": {
        "id": "yyClIRaPcJQv",
        "outputId": "682bfc07-4f72-497d-b0ac-50443e4e970f",
        "colab": {
          "base_uri": "https://localhost:8080/",
          "height": 36
        }
      },
      "execution_count": 7,
      "outputs": [
        {
          "output_type": "execute_result",
          "data": {
            "text/plain": [
              "'my name is raararara'"
            ],
            "application/vnd.google.colaboratory.intrinsic+json": {
              "type": "string"
            }
          },
          "metadata": {},
          "execution_count": 7
        }
      ]
    },
    {
      "cell_type": "code",
      "source": [
        "x=20.21"
      ],
      "metadata": {
        "id": "b86pg1RxcNRW"
      },
      "execution_count": 8,
      "outputs": []
    },
    {
      "cell_type": "code",
      "source": [
        "type(x)\n"
      ],
      "metadata": {
        "id": "MPqOF2GXcQCM",
        "outputId": "052fbc51-f619-4d27-dab6-f3754704f82a",
        "colab": {
          "base_uri": "https://localhost:8080/"
        }
      },
      "execution_count": 9,
      "outputs": [
        {
          "output_type": "execute_result",
          "data": {
            "text/plain": [
              "float"
            ]
          },
          "metadata": {},
          "execution_count": 9
        }
      ]
    },
    {
      "cell_type": "code",
      "source": [
        "print(x)"
      ],
      "metadata": {
        "id": "nMaVyf-IcSjo",
        "outputId": "b432e93a-28ac-4ac8-daae-d4088f9dfc1c",
        "colab": {
          "base_uri": "https://localhost:8080/"
        }
      },
      "execution_count": 10,
      "outputs": [
        {
          "output_type": "stream",
          "name": "stdout",
          "text": [
            "20.21\n"
          ]
        }
      ]
    },
    {
      "cell_type": "code",
      "source": [
        "y=2"
      ],
      "metadata": {
        "id": "F9Mg1H76cUvJ"
      },
      "execution_count": 11,
      "outputs": []
    },
    {
      "cell_type": "code",
      "source": [
        "x+y"
      ],
      "metadata": {
        "id": "-mZAz16ccaX0",
        "outputId": "d3161840-a9c8-4843-adab-69390ed3e0a0",
        "colab": {
          "base_uri": "https://localhost:8080/"
        }
      },
      "execution_count": 12,
      "outputs": [
        {
          "output_type": "execute_result",
          "data": {
            "text/plain": [
              "22.21"
            ]
          },
          "metadata": {},
          "execution_count": 12
        }
      ]
    },
    {
      "cell_type": "code",
      "source": [
        "'''\n",
        "helllo\n",
        "\n",
        "'''"
      ],
      "metadata": {
        "id": "6lpIoqKFcc5L",
        "outputId": "5f03e3d2-9094-4ad8-c662-d51598d8c804",
        "colab": {
          "base_uri": "https://localhost:8080/",
          "height": 36
        }
      },
      "execution_count": 13,
      "outputs": [
        {
          "output_type": "execute_result",
          "data": {
            "text/plain": [
              "'\\nhelllo\\n\\n'"
            ],
            "application/vnd.google.colaboratory.intrinsic+json": {
              "type": "string"
            }
          },
          "metadata": {},
          "execution_count": 13
        }
      ]
    },
    {
      "cell_type": "code",
      "source": [
        "____=\"hello\""
      ],
      "metadata": {
        "id": "vT9jAH4rdH1_"
      },
      "execution_count": 14,
      "outputs": []
    },
    {
      "cell_type": "code",
      "source": [
        "____"
      ],
      "metadata": {
        "id": "0j571Mvge-RT",
        "outputId": "54d5eac2-ec4a-48b2-ee1b-4ec50330ccff",
        "colab": {
          "base_uri": "https://localhost:8080/",
          "height": 36
        }
      },
      "execution_count": 15,
      "outputs": [
        {
          "output_type": "execute_result",
          "data": {
            "text/plain": [
              "'hello'"
            ],
            "application/vnd.google.colaboratory.intrinsic+json": {
              "type": "string"
            }
          },
          "metadata": {},
          "execution_count": 15
        }
      ]
    },
    {
      "cell_type": "code",
      "source": [
        "a=True"
      ],
      "metadata": {
        "id": "JCyuZunwe_JV"
      },
      "execution_count": 16,
      "outputs": []
    },
    {
      "cell_type": "code",
      "source": [
        "type(a)"
      ],
      "metadata": {
        "id": "XfdAYinEfCT_",
        "outputId": "aa26ba6f-e295-4f81-bdfe-02fe54cfd953",
        "colab": {
          "base_uri": "https://localhost:8080/"
        }
      },
      "execution_count": 17,
      "outputs": [
        {
          "output_type": "execute_result",
          "data": {
            "text/plain": [
              "bool"
            ]
          },
          "metadata": {},
          "execution_count": 17
        }
      ]
    },
    {
      "cell_type": "code",
      "source": [
        "abc=\"1901\""
      ],
      "metadata": {
        "id": "ILvKdy53fSSc"
      },
      "execution_count": 18,
      "outputs": []
    },
    {
      "cell_type": "code",
      "source": [
        "type(abc)"
      ],
      "metadata": {
        "id": "37Ml4fmdf6IZ",
        "outputId": "7c58ecf1-80dd-4ec4-dc21-5af0340a1586",
        "colab": {
          "base_uri": "https://localhost:8080/"
        }
      },
      "execution_count": 19,
      "outputs": [
        {
          "output_type": "execute_result",
          "data": {
            "text/plain": [
              "str"
            ]
          },
          "metadata": {},
          "execution_count": 19
        }
      ]
    },
    {
      "cell_type": "code",
      "source": [
        "abc*y"
      ],
      "metadata": {
        "id": "ppa7OxUyf8Fp",
        "outputId": "23a5cf92-4b38-483c-98c5-4ce295e45bf1",
        "colab": {
          "base_uri": "https://localhost:8080/",
          "height": 36
        }
      },
      "execution_count": 20,
      "outputs": [
        {
          "output_type": "execute_result",
          "data": {
            "text/plain": [
              "'19011901'"
            ],
            "application/vnd.google.colaboratory.intrinsic+json": {
              "type": "string"
            }
          },
          "metadata": {},
          "execution_count": 20
        }
      ]
    },
    {
      "cell_type": "code",
      "source": [
        "7%3+6-4//3"
      ],
      "metadata": {
        "id": "3DhAOQZVgETJ",
        "outputId": "040d2e54-a675-4d5b-ede3-16ee38009292",
        "colab": {
          "base_uri": "https://localhost:8080/"
        }
      },
      "execution_count": 21,
      "outputs": [
        {
          "output_type": "execute_result",
          "data": {
            "text/plain": [
              "6"
            ]
          },
          "metadata": {},
          "execution_count": 21
        }
      ]
    },
    {
      "cell_type": "code",
      "source": [
        "9+7*4-(6/4*2-8)"
      ],
      "metadata": {
        "id": "H40CY_xBj-h7",
        "outputId": "23a19b7a-2acf-4f16-f6e5-45a57d02fa8f",
        "colab": {
          "base_uri": "https://localhost:8080/"
        }
      },
      "execution_count": 22,
      "outputs": [
        {
          "output_type": "execute_result",
          "data": {
            "text/plain": [
              "42.0"
            ]
          },
          "metadata": {},
          "execution_count": 22
        }
      ]
    },
    {
      "cell_type": "code",
      "source": [
        "2+3*4/2"
      ],
      "metadata": {
        "id": "BzKIqhRKky66",
        "outputId": "5ad7ec2c-682b-4114-a952-efdabc65636f",
        "colab": {
          "base_uri": "https://localhost:8080/"
        }
      },
      "execution_count": 23,
      "outputs": [
        {
          "output_type": "execute_result",
          "data": {
            "text/plain": [
              "8.0"
            ]
          },
          "metadata": {},
          "execution_count": 23
        }
      ]
    },
    {
      "cell_type": "markdown",
      "source": [
        "# **control flow**"
      ],
      "metadata": {
        "id": "bN3jK0gXqI0X"
      }
    },
    {
      "cell_type": "code",
      "source": [
        "# number is even or odd\n",
        "num=int(input(\"enter the number=\"))\n",
        "num1=input(\"enter the number=\")\n",
        "\n",
        "if num%2==0:\n",
        "  print(\"even\")\n",
        "else:\n",
        "  print(\"odd\")"
      ],
      "metadata": {
        "id": "-aAyUsEfpdDS",
        "outputId": "aed80079-db7a-4e77-9712-b5993fd61dbb",
        "colab": {
          "base_uri": "https://localhost:8080/"
        }
      },
      "execution_count": 24,
      "outputs": [
        {
          "output_type": "stream",
          "name": "stdout",
          "text": [
            "enter the number=1\n",
            "enter the number=12\n",
            "odd\n"
          ]
        }
      ]
    },
    {
      "cell_type": "code",
      "source": [
        "type(num),type(num1)"
      ],
      "metadata": {
        "id": "aZp2jl2Zre3K",
        "outputId": "332a4dd4-3cd4-40c7-ef93-340df74633a1",
        "colab": {
          "base_uri": "https://localhost:8080/"
        }
      },
      "execution_count": 25,
      "outputs": [
        {
          "output_type": "execute_result",
          "data": {
            "text/plain": [
              "(int, str)"
            ]
          },
          "metadata": {},
          "execution_count": 25
        }
      ]
    },
    {
      "cell_type": "code",
      "source": [
        "num1=7\n",
        "num2=8\n"
      ],
      "metadata": {
        "id": "pNsDG4mcuCl7"
      },
      "execution_count": 26,
      "outputs": []
    },
    {
      "cell_type": "code",
      "source": [
        "if num1 == num2:\n",
        "  print(\"equal\")\n",
        "elif num1 > num2:\n",
        "  print(\"num1 is greater\")\n",
        "else:\n",
        "  print('num2 is greater')"
      ],
      "metadata": {
        "id": "4sTtZ5E5vYNq",
        "outputId": "4aa1fdae-5079-47a8-bdb0-168e229b4978",
        "colab": {
          "base_uri": "https://localhost:8080/"
        }
      },
      "execution_count": 27,
      "outputs": [
        {
          "output_type": "stream",
          "name": "stdout",
          "text": [
            "num2 is greater\n"
          ]
        }
      ]
    },
    {
      "cell_type": "code",
      "source": [
        "a=6;b=9\n",
        "sign=input(\"enter sign=\")\n",
        "if sign==\"+\":\n",
        "  c=a+b\n",
        "\n",
        "if sign==\"-\":\n",
        "  c=a-b\n",
        "\n",
        "if sign==\"*\":\n",
        "  c=a*b\n",
        "\n",
        "if sign==\"/\":\n",
        "  c=a/b\n",
        "\n",
        "if sign==\"%\":\n",
        "  c=a%b\n",
        "\n",
        "if sign==\"//\":\n",
        "  c=a//b\n",
        "print(c)\n"
      ],
      "metadata": {
        "id": "DJkyaDh-vlNd",
        "outputId": "e5b0ac40-7464-4ab1-fad2-31ff580f4486",
        "colab": {
          "base_uri": "https://localhost:8080/"
        }
      },
      "execution_count": 29,
      "outputs": [
        {
          "output_type": "stream",
          "name": "stdout",
          "text": [
            "enter sign=-\n",
            "-3\n"
          ]
        }
      ]
    },
    {
      "cell_type": "code",
      "source": [
        "while(True):\n",
        "  a=int(input(\"enter the number=\"))\n",
        "  b=int(input(\"enter the number=\"))\n",
        "  sign=input(\"enter operator =\")\n",
        "  if sign in [\"+\",\"-\",\"/\",\"*\",\"%\",\"//\"]:\n",
        "    print(\"valid operator\")\n",
        "    if sign==\"+\":\n",
        "      c=a+b\n",
        "\n",
        "    if sign==\"-\":\n",
        "      c=a-b\n",
        "\n",
        "    if sign==\"*\":\n",
        "      c=a*b\n",
        "\n",
        "    if sign==\"/\":\n",
        "      c=a/b\n",
        "\n",
        "    if sign==\"%\":\n",
        "      c=a%b\n",
        "\n",
        "    if sign==\"//\":\n",
        "      c=a//b\n",
        "\n",
        "  else:\n",
        "    print(\"invalid\")\n",
        "\n",
        "  print(c)"
      ],
      "metadata": {
        "id": "zUogVlhFwYhA",
        "outputId": "b71aea40-8b94-4a7a-9672-95a5464d511d",
        "colab": {
          "base_uri": "https://localhost:8080/"
        }
      },
      "execution_count": 31,
      "outputs": [
        {
          "output_type": "stream",
          "name": "stdout",
          "text": [
            "enter the number=5\n",
            "enter the number=5\n",
            "enter sign=+\n",
            "valid operator\n",
            "10\n"
          ]
        }
      ]
    },
    {
      "cell_type": "code",
      "source": [
        "while True:\n",
        "\n",
        "  a = int(input(\"Enter the first number: \"))\n",
        "  b = int(input(\"Enter the second number: \"))\n",
        "  sign = input(\"Enter the operator: \")\n",
        "  lst=[\"+\", \"-\", \"/\", \"*\", \"%\", \"//\"]\n",
        "  if sign in lst:\n",
        "      print(\"Valid operator\")\n",
        "      if sign == \"+\":\n",
        "          c = a + b\n",
        "      elif sign == \"-\":\n",
        "          c = a - b\n",
        "      elif sign == \"*\":\n",
        "          c = a * b\n",
        "      elif sign == \"/\":\n",
        "          c = a / b\n",
        "      elif sign == \"%\":\n",
        "          c = a % b\n",
        "      elif sign == \"//\":\n",
        "          c = a // b\n",
        "      else:\n",
        "        print(\"try again there is some error\")\n",
        "      print(f\"The result is {c}\")\n",
        "  else:\n",
        "      print(\"Invalid operator\")\n",
        "\n",
        "  cont = input(\"Do you want to continue? (y/n): \")\n",
        "  if cont.lower() != \"y\":\n",
        "      break\n",
        "\n"
      ],
      "metadata": {
        "id": "5F5a0jsWT9bP",
        "outputId": "b227b51d-9fcc-47a0-98a9-dbc9ad1ee330",
        "colab": {
          "base_uri": "https://localhost:8080/"
        }
      },
      "execution_count": 35,
      "outputs": [
        {
          "name": "stdout",
          "output_type": "stream",
          "text": [
            "Enter the first number: 12\n",
            "Enter the second number: 32\n",
            "Enter the operator: \\\\\n",
            "Invalid operator\n",
            "Do you want to continue? (y/n): n\n"
          ]
        }
      ]
    },
    {
      "cell_type": "code",
      "source": [],
      "metadata": {
        "id": "vwxNVtKXVgPC"
      },
      "execution_count": null,
      "outputs": []
    }
  ]
}