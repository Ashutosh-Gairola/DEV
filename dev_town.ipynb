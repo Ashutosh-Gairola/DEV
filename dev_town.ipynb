{
  "nbformat": 4,
  "nbformat_minor": 0,
  "metadata": {
    "colab": {
      "provenance": [],
      "authorship_tag": "ABX9TyORsVFI5M2mTWQxeImKrdo8",
      "include_colab_link": true
    },
    "kernelspec": {
      "name": "python3",
      "display_name": "Python 3"
    },
    "language_info": {
      "name": "python"
    }
  },
  "cells": [
    {
      "cell_type": "markdown",
      "metadata": {
        "id": "view-in-github",
        "colab_type": "text"
      },
      "source": [
        "<a href=\"https://colab.research.google.com/github/Ashutosh-Gairola/DEV/blob/main/dev_town.ipynb\" target=\"_parent\"><img src=\"https://colab.research.google.com/assets/colab-badge.svg\" alt=\"Open In Colab\"/></a>"
      ]
    },
    {
      "cell_type": "code",
      "execution_count": 1,
      "metadata": {
        "id": "gnjR0sU7Vk2v",
        "outputId": "d6d19a1e-2317-477e-eaec-556ebb79c728",
        "colab": {
          "base_uri": "https://localhost:8080/"
        }
      },
      "outputs": [
        {
          "output_type": "stream",
          "name": "stdout",
          "text": [
            "hello\n"
          ]
        }
      ],
      "source": [
        "print(\"hello\")"
      ]
    },
    {
      "cell_type": "code",
      "source": [
        "print(2)"
      ],
      "metadata": {
        "id": "SAR_dBuQbzlv",
        "outputId": "ff33674c-1b90-42de-d9f0-acc3ef7d2d8f",
        "colab": {
          "base_uri": "https://localhost:8080/"
        }
      },
      "execution_count": null,
      "outputs": [
        {
          "output_type": "stream",
          "name": "stdout",
          "text": [
            "2\n"
          ]
        }
      ]
    },
    {
      "cell_type": "code",
      "source": [
        "x=1000\n"
      ],
      "metadata": {
        "id": "NxjnYvjHb2KE"
      },
      "execution_count": null,
      "outputs": []
    },
    {
      "cell_type": "code",
      "source": [
        "print(x)"
      ],
      "metadata": {
        "id": "ETgkqqJDb4YV",
        "outputId": "924efc8b-b425-4506-eb0e-dbb9c990971c",
        "colab": {
          "base_uri": "https://localhost:8080/"
        }
      },
      "execution_count": null,
      "outputs": [
        {
          "output_type": "stream",
          "name": "stdout",
          "text": [
            "1000\n"
          ]
        }
      ]
    },
    {
      "cell_type": "code",
      "source": [
        "x"
      ],
      "metadata": {
        "id": "gBNStAMDb5fU",
        "outputId": "eaf57d7f-3371-4dd7-cdf0-092b6d1cc0e1",
        "colab": {
          "base_uri": "https://localhost:8080/"
        }
      },
      "execution_count": null,
      "outputs": [
        {
          "output_type": "execute_result",
          "data": {
            "text/plain": [
              "1000"
            ]
          },
          "metadata": {},
          "execution_count": 5
        }
      ]
    },
    {
      "cell_type": "code",
      "source": [
        "string=\"my name is raararara\""
      ],
      "metadata": {
        "id": "hkPs3PoHb5yb"
      },
      "execution_count": null,
      "outputs": []
    },
    {
      "cell_type": "code",
      "source": [
        "string"
      ],
      "metadata": {
        "id": "yyClIRaPcJQv",
        "outputId": "682bfc07-4f72-497d-b0ac-50443e4e970f",
        "colab": {
          "base_uri": "https://localhost:8080/",
          "height": 36
        }
      },
      "execution_count": null,
      "outputs": [
        {
          "output_type": "execute_result",
          "data": {
            "text/plain": [
              "'my name is raararara'"
            ],
            "application/vnd.google.colaboratory.intrinsic+json": {
              "type": "string"
            }
          },
          "metadata": {},
          "execution_count": 7
        }
      ]
    },
    {
      "cell_type": "code",
      "source": [
        "x=20.21"
      ],
      "metadata": {
        "id": "b86pg1RxcNRW"
      },
      "execution_count": null,
      "outputs": []
    },
    {
      "cell_type": "code",
      "source": [
        "type(x)\n"
      ],
      "metadata": {
        "id": "MPqOF2GXcQCM",
        "outputId": "052fbc51-f619-4d27-dab6-f3754704f82a",
        "colab": {
          "base_uri": "https://localhost:8080/"
        }
      },
      "execution_count": null,
      "outputs": [
        {
          "output_type": "execute_result",
          "data": {
            "text/plain": [
              "float"
            ]
          },
          "metadata": {},
          "execution_count": 9
        }
      ]
    },
    {
      "cell_type": "code",
      "source": [
        "print(x)"
      ],
      "metadata": {
        "id": "nMaVyf-IcSjo",
        "outputId": "b432e93a-28ac-4ac8-daae-d4088f9dfc1c",
        "colab": {
          "base_uri": "https://localhost:8080/"
        }
      },
      "execution_count": null,
      "outputs": [
        {
          "output_type": "stream",
          "name": "stdout",
          "text": [
            "20.21\n"
          ]
        }
      ]
    },
    {
      "cell_type": "code",
      "source": [
        "y=2"
      ],
      "metadata": {
        "id": "F9Mg1H76cUvJ"
      },
      "execution_count": null,
      "outputs": []
    },
    {
      "cell_type": "code",
      "source": [
        "x+y"
      ],
      "metadata": {
        "id": "-mZAz16ccaX0",
        "outputId": "d3161840-a9c8-4843-adab-69390ed3e0a0",
        "colab": {
          "base_uri": "https://localhost:8080/"
        }
      },
      "execution_count": null,
      "outputs": [
        {
          "output_type": "execute_result",
          "data": {
            "text/plain": [
              "22.21"
            ]
          },
          "metadata": {},
          "execution_count": 12
        }
      ]
    },
    {
      "cell_type": "code",
      "source": [
        "'''\n",
        "helllo\n",
        "\n",
        "'''"
      ],
      "metadata": {
        "id": "6lpIoqKFcc5L",
        "outputId": "5f03e3d2-9094-4ad8-c662-d51598d8c804",
        "colab": {
          "base_uri": "https://localhost:8080/",
          "height": 36
        }
      },
      "execution_count": null,
      "outputs": [
        {
          "output_type": "execute_result",
          "data": {
            "text/plain": [
              "'\\nhelllo\\n\\n'"
            ],
            "application/vnd.google.colaboratory.intrinsic+json": {
              "type": "string"
            }
          },
          "metadata": {},
          "execution_count": 13
        }
      ]
    },
    {
      "cell_type": "code",
      "source": [
        "____=\"hello\""
      ],
      "metadata": {
        "id": "vT9jAH4rdH1_"
      },
      "execution_count": null,
      "outputs": []
    },
    {
      "cell_type": "code",
      "source": [
        "____"
      ],
      "metadata": {
        "id": "0j571Mvge-RT",
        "outputId": "54d5eac2-ec4a-48b2-ee1b-4ec50330ccff",
        "colab": {
          "base_uri": "https://localhost:8080/",
          "height": 36
        }
      },
      "execution_count": null,
      "outputs": [
        {
          "output_type": "execute_result",
          "data": {
            "text/plain": [
              "'hello'"
            ],
            "application/vnd.google.colaboratory.intrinsic+json": {
              "type": "string"
            }
          },
          "metadata": {},
          "execution_count": 15
        }
      ]
    },
    {
      "cell_type": "code",
      "source": [
        "a=True"
      ],
      "metadata": {
        "id": "JCyuZunwe_JV"
      },
      "execution_count": null,
      "outputs": []
    },
    {
      "cell_type": "code",
      "source": [
        "type(a)"
      ],
      "metadata": {
        "id": "XfdAYinEfCT_",
        "outputId": "aa26ba6f-e295-4f81-bdfe-02fe54cfd953",
        "colab": {
          "base_uri": "https://localhost:8080/"
        }
      },
      "execution_count": null,
      "outputs": [
        {
          "output_type": "execute_result",
          "data": {
            "text/plain": [
              "bool"
            ]
          },
          "metadata": {},
          "execution_count": 17
        }
      ]
    },
    {
      "cell_type": "code",
      "source": [
        "abc=\"1901\""
      ],
      "metadata": {
        "id": "ILvKdy53fSSc"
      },
      "execution_count": null,
      "outputs": []
    },
    {
      "cell_type": "code",
      "source": [
        "type(abc)"
      ],
      "metadata": {
        "id": "37Ml4fmdf6IZ",
        "outputId": "7c58ecf1-80dd-4ec4-dc21-5af0340a1586",
        "colab": {
          "base_uri": "https://localhost:8080/"
        }
      },
      "execution_count": null,
      "outputs": [
        {
          "output_type": "execute_result",
          "data": {
            "text/plain": [
              "str"
            ]
          },
          "metadata": {},
          "execution_count": 19
        }
      ]
    },
    {
      "cell_type": "code",
      "source": [
        "abc*y"
      ],
      "metadata": {
        "id": "ppa7OxUyf8Fp",
        "outputId": "23a5cf92-4b38-483c-98c5-4ce295e45bf1",
        "colab": {
          "base_uri": "https://localhost:8080/",
          "height": 36
        }
      },
      "execution_count": null,
      "outputs": [
        {
          "output_type": "execute_result",
          "data": {
            "text/plain": [
              "'19011901'"
            ],
            "application/vnd.google.colaboratory.intrinsic+json": {
              "type": "string"
            }
          },
          "metadata": {},
          "execution_count": 20
        }
      ]
    },
    {
      "cell_type": "code",
      "source": [
        "7%3+6-4//3"
      ],
      "metadata": {
        "id": "3DhAOQZVgETJ",
        "outputId": "040d2e54-a675-4d5b-ede3-16ee38009292",
        "colab": {
          "base_uri": "https://localhost:8080/"
        }
      },
      "execution_count": null,
      "outputs": [
        {
          "output_type": "execute_result",
          "data": {
            "text/plain": [
              "6"
            ]
          },
          "metadata": {},
          "execution_count": 21
        }
      ]
    },
    {
      "cell_type": "code",
      "source": [
        "9+7*4-(6/4*2-8)"
      ],
      "metadata": {
        "id": "H40CY_xBj-h7",
        "outputId": "23a19b7a-2acf-4f16-f6e5-45a57d02fa8f",
        "colab": {
          "base_uri": "https://localhost:8080/"
        }
      },
      "execution_count": null,
      "outputs": [
        {
          "output_type": "execute_result",
          "data": {
            "text/plain": [
              "42.0"
            ]
          },
          "metadata": {},
          "execution_count": 22
        }
      ]
    },
    {
      "cell_type": "code",
      "source": [
        "2+3*4/2"
      ],
      "metadata": {
        "id": "BzKIqhRKky66",
        "outputId": "5ad7ec2c-682b-4114-a952-efdabc65636f",
        "colab": {
          "base_uri": "https://localhost:8080/"
        }
      },
      "execution_count": null,
      "outputs": [
        {
          "output_type": "execute_result",
          "data": {
            "text/plain": [
              "8.0"
            ]
          },
          "metadata": {},
          "execution_count": 23
        }
      ]
    },
    {
      "cell_type": "markdown",
      "source": [
        "# **control flow**"
      ],
      "metadata": {
        "id": "bN3jK0gXqI0X"
      }
    },
    {
      "cell_type": "code",
      "source": [
        "# number is even or odd\n",
        "num=int(input(\"enter the number=\"))\n",
        "num1=input(\"enter the number=\")\n",
        "\n",
        "if num%2==0:\n",
        "  print(\"even\")\n",
        "else:\n",
        "  print(\"odd\")"
      ],
      "metadata": {
        "id": "-aAyUsEfpdDS",
        "outputId": "aed80079-db7a-4e77-9712-b5993fd61dbb",
        "colab": {
          "base_uri": "https://localhost:8080/"
        }
      },
      "execution_count": null,
      "outputs": [
        {
          "output_type": "stream",
          "name": "stdout",
          "text": [
            "enter the number=1\n",
            "enter the number=12\n",
            "odd\n"
          ]
        }
      ]
    },
    {
      "cell_type": "code",
      "source": [
        "type(num),type(num1)"
      ],
      "metadata": {
        "id": "aZp2jl2Zre3K",
        "outputId": "332a4dd4-3cd4-40c7-ef93-340df74633a1",
        "colab": {
          "base_uri": "https://localhost:8080/"
        }
      },
      "execution_count": null,
      "outputs": [
        {
          "output_type": "execute_result",
          "data": {
            "text/plain": [
              "(int, str)"
            ]
          },
          "metadata": {},
          "execution_count": 25
        }
      ]
    },
    {
      "cell_type": "code",
      "source": [
        "num1=7\n",
        "num2=8\n"
      ],
      "metadata": {
        "id": "pNsDG4mcuCl7"
      },
      "execution_count": null,
      "outputs": []
    },
    {
      "cell_type": "code",
      "source": [
        "if num1 == num2:\n",
        "  print(\"equal\")\n",
        "elif num1 > num2:\n",
        "  print(\"num1 is greater\")\n",
        "else:\n",
        "  print('num2 is greater')"
      ],
      "metadata": {
        "id": "4sTtZ5E5vYNq",
        "outputId": "4aa1fdae-5079-47a8-bdb0-168e229b4978",
        "colab": {
          "base_uri": "https://localhost:8080/"
        }
      },
      "execution_count": null,
      "outputs": [
        {
          "output_type": "stream",
          "name": "stdout",
          "text": [
            "num2 is greater\n"
          ]
        }
      ]
    },
    {
      "cell_type": "code",
      "source": [
        "a=6;b=9\n",
        "sign=input(\"enter sign=\")\n",
        "if sign==\"+\":\n",
        "  c=a+b\n",
        "\n",
        "if sign==\"-\":\n",
        "  c=a-b\n",
        "\n",
        "if sign==\"*\":\n",
        "  c=a*b\n",
        "\n",
        "if sign==\"/\":\n",
        "  c=a/b\n",
        "\n",
        "if sign==\"%\":\n",
        "  c=a%b\n",
        "\n",
        "if sign==\"//\":\n",
        "  c=a//b\n",
        "print(c)\n"
      ],
      "metadata": {
        "id": "DJkyaDh-vlNd",
        "outputId": "e5b0ac40-7464-4ab1-fad2-31ff580f4486",
        "colab": {
          "base_uri": "https://localhost:8080/"
        }
      },
      "execution_count": null,
      "outputs": [
        {
          "output_type": "stream",
          "name": "stdout",
          "text": [
            "enter sign=-\n",
            "-3\n"
          ]
        }
      ]
    },
    {
      "cell_type": "code",
      "source": [
        "while(True):\n",
        "  a=int(input(\"enter the number=\"))\n",
        "  b=int(input(\"enter the number=\"))\n",
        "  sign=input(\"enter operator =\")\n",
        "  if sign in [\"+\",\"-\",\"/\",\"*\",\"%\",\"//\"]:\n",
        "    print(\"valid operator\")\n",
        "    if sign==\"+\":\n",
        "      c=a+b\n",
        "\n",
        "    if sign==\"-\":\n",
        "      c=a-b\n",
        "\n",
        "    if sign==\"*\":\n",
        "      c=a*b\n",
        "\n",
        "    if sign==\"/\":\n",
        "      c=a/b\n",
        "\n",
        "    if sign==\"%\":\n",
        "      c=a%b\n",
        "\n",
        "    if sign==\"//\":\n",
        "      c=a//b\n",
        "\n",
        "  else:\n",
        "    print(\"invalid\")\n",
        "\n",
        "  print(c)"
      ],
      "metadata": {
        "id": "zUogVlhFwYhA",
        "outputId": "b71aea40-8b94-4a7a-9672-95a5464d511d",
        "colab": {
          "base_uri": "https://localhost:8080/"
        }
      },
      "execution_count": null,
      "outputs": [
        {
          "output_type": "stream",
          "name": "stdout",
          "text": [
            "enter the number=5\n",
            "enter the number=5\n",
            "enter sign=+\n",
            "valid operator\n",
            "10\n"
          ]
        }
      ]
    },
    {
      "cell_type": "code",
      "source": [
        "while True:\n",
        "\n",
        "  a = int(input(\"Enter the first number: \"))\n",
        "  b = int(input(\"Enter the second number: \"))\n",
        "  sign = input(\"Enter the operator: \")\n",
        "  lst=[\"+\", \"-\", \"/\", \"*\", \"%\", \"//\"]\n",
        "  if sign in lst:\n",
        "      print(\"Valid operator\")\n",
        "      if sign == \"+\":\n",
        "          c = a + b\n",
        "      elif sign == \"-\":\n",
        "          c = a - b\n",
        "      elif sign == \"*\":\n",
        "          c = a * b\n",
        "      elif sign == \"/\":\n",
        "          c = a / b\n",
        "      elif sign == \"%\":\n",
        "          c = a % b\n",
        "      elif sign == \"//\":\n",
        "          c = a // b\n",
        "      else:\n",
        "        print(\"try again there is some error\")\n",
        "      print(\"The result is \",c)\n",
        "  else:\n",
        "      print(\"Invalid operator\")\n",
        "\n",
        "  cont = input(\"Do you want to continue? (y/n): \")\n",
        "  if cont.lower() != \"y\":\n",
        "      break\n",
        "\n"
      ],
      "metadata": {
        "id": "5F5a0jsWT9bP",
        "outputId": "50a6fd5f-7664-41bc-abde-77d422321e7a",
        "colab": {
          "base_uri": "https://localhost:8080/"
        }
      },
      "execution_count": 2,
      "outputs": [
        {
          "name": "stdout",
          "output_type": "stream",
          "text": [
            "Enter the first number: 55\n",
            "Enter the second number: 11\n",
            "Enter the operator: /\n",
            "Valid operator\n",
            "The result is 5.0\n",
            "Do you want to continue? (y/n): n\n"
          ]
        }
      ]
    },
    {
      "cell_type": "markdown",
      "source": [
        "# list"
      ],
      "metadata": {
        "id": "zXEhHKAN9JN5"
      }
    },
    {
      "cell_type": "code",
      "source": [
        "l1=[1,2,3,4]"
      ],
      "metadata": {
        "id": "vwxNVtKXVgPC"
      },
      "execution_count": 3,
      "outputs": []
    },
    {
      "cell_type": "code",
      "source": [
        "type(l1)"
      ],
      "metadata": {
        "id": "fWeNRFJw9M1p",
        "outputId": "252a4a9c-311a-4ada-ad1b-16d00923be71",
        "colab": {
          "base_uri": "https://localhost:8080/"
        }
      },
      "execution_count": 4,
      "outputs": [
        {
          "output_type": "execute_result",
          "data": {
            "text/plain": [
              "list"
            ]
          },
          "metadata": {},
          "execution_count": 4
        }
      ]
    },
    {
      "cell_type": "code",
      "source": [
        "import array\n",
        "int_array=array.array('i',[1,2,3,4,5,6])"
      ],
      "metadata": {
        "id": "9ersNaCU9OOv"
      },
      "execution_count": 7,
      "outputs": []
    },
    {
      "cell_type": "code",
      "source": [
        "type(int_array)"
      ],
      "metadata": {
        "id": "cnn6hdZq9YOl",
        "outputId": "293db169-0929-4cb6-b999-0f8e49f2c3e9",
        "colab": {
          "base_uri": "https://localhost:8080/"
        }
      },
      "execution_count": 8,
      "outputs": [
        {
          "output_type": "execute_result",
          "data": {
            "text/plain": [
              "array.array"
            ]
          },
          "metadata": {},
          "execution_count": 8
        }
      ]
    },
    {
      "cell_type": "code",
      "source": [
        "l2=[1,2,3,'4,0','hello',7.2]"
      ],
      "metadata": {
        "id": "Lyybb0tn9bsR"
      },
      "execution_count": 9,
      "outputs": []
    },
    {
      "cell_type": "code",
      "source": [
        "l2[4]"
      ],
      "metadata": {
        "id": "A5DaAF3z-pMx",
        "outputId": "fbac3033-cc67-43fa-c1c2-cb74d632cbaa",
        "colab": {
          "base_uri": "https://localhost:8080/",
          "height": 36
        }
      },
      "execution_count": 10,
      "outputs": [
        {
          "output_type": "execute_result",
          "data": {
            "text/plain": [
              "'hello'"
            ],
            "application/vnd.google.colaboratory.intrinsic+json": {
              "type": "string"
            }
          },
          "metadata": {},
          "execution_count": 10
        }
      ]
    },
    {
      "cell_type": "code",
      "source": [
        "l2[5]"
      ],
      "metadata": {
        "id": "UOlafQrx-qdM",
        "outputId": "548202f3-3f56-485c-b7f9-7411c14d0b82",
        "colab": {
          "base_uri": "https://localhost:8080/"
        }
      },
      "execution_count": 11,
      "outputs": [
        {
          "output_type": "execute_result",
          "data": {
            "text/plain": [
              "7.2"
            ]
          },
          "metadata": {},
          "execution_count": 11
        }
      ]
    },
    {
      "cell_type": "code",
      "source": [
        "l2.append(88)"
      ],
      "metadata": {
        "id": "Up7pqWLh-seJ"
      },
      "execution_count": 12,
      "outputs": []
    },
    {
      "cell_type": "code",
      "source": [
        "l2\n"
      ],
      "metadata": {
        "id": "ENpFeOZo-0qZ",
        "outputId": "309da099-9538-40a2-ed30-a5006989da60",
        "colab": {
          "base_uri": "https://localhost:8080/"
        }
      },
      "execution_count": 13,
      "outputs": [
        {
          "output_type": "execute_result",
          "data": {
            "text/plain": [
              "[1, 2, 3, '4,0', 'hello', 7.2, 88]"
            ]
          },
          "metadata": {},
          "execution_count": 13
        }
      ]
    },
    {
      "cell_type": "code",
      "source": [
        "l2.insert(1,32)"
      ],
      "metadata": {
        "id": "D0j4yQ2o-1iO"
      },
      "execution_count": 16,
      "outputs": []
    },
    {
      "cell_type": "code",
      "source": [
        "l2"
      ],
      "metadata": {
        "id": "gaTQNd8B-6vC",
        "outputId": "e6ebb355-83ae-42eb-cbd1-164153095a5e",
        "colab": {
          "base_uri": "https://localhost:8080/"
        }
      },
      "execution_count": 17,
      "outputs": [
        {
          "output_type": "execute_result",
          "data": {
            "text/plain": [
              "[1, 32, 2, 3, '4,0', 'hello', 7.2, 88]"
            ]
          },
          "metadata": {},
          "execution_count": 17
        }
      ]
    },
    {
      "cell_type": "code",
      "source": [
        "s1={1,2,3,4,5,1}"
      ],
      "metadata": {
        "id": "xXY7c0n3_BAZ"
      },
      "execution_count": 25,
      "outputs": []
    },
    {
      "cell_type": "code",
      "source": [
        "s1"
      ],
      "metadata": {
        "id": "ZS69KN5p_F6I",
        "outputId": "c67c3f15-f768-4629-8f5a-7a64aa9c1003",
        "colab": {
          "base_uri": "https://localhost:8080/"
        }
      },
      "execution_count": 19,
      "outputs": [
        {
          "output_type": "execute_result",
          "data": {
            "text/plain": [
              "{1, 2, 3, 4, 5}"
            ]
          },
          "metadata": {},
          "execution_count": 19
        }
      ]
    },
    {
      "cell_type": "code",
      "source": [
        "s1[4]"
      ],
      "metadata": {
        "id": "l3SeFj6X_G1C",
        "outputId": "11842a5b-4fc9-4fa1-cf3e-d3006306e5f1",
        "colab": {
          "base_uri": "https://localhost:8080/",
          "height": 175
        }
      },
      "execution_count": 20,
      "outputs": [
        {
          "output_type": "error",
          "ename": "TypeError",
          "evalue": "ignored",
          "traceback": [
            "\u001b[0;31m---------------------------------------------------------------------------\u001b[0m",
            "\u001b[0;31mTypeError\u001b[0m                                 Traceback (most recent call last)",
            "\u001b[0;32m<ipython-input-20-167032143c76>\u001b[0m in \u001b[0;36m<cell line: 1>\u001b[0;34m()\u001b[0m\n\u001b[0;32m----> 1\u001b[0;31m \u001b[0ms1\u001b[0m\u001b[0;34m[\u001b[0m\u001b[0;36m4\u001b[0m\u001b[0;34m]\u001b[0m\u001b[0;34m\u001b[0m\u001b[0;34m\u001b[0m\u001b[0m\n\u001b[0m",
            "\u001b[0;31mTypeError\u001b[0m: 'set' object is not subscriptable"
          ]
        }
      ]
    },
    {
      "cell_type": "code",
      "source": [
        "s1=list(s1)"
      ],
      "metadata": {
        "id": "8ttMGtWs_I4B"
      },
      "execution_count": 21,
      "outputs": []
    },
    {
      "cell_type": "code",
      "source": [
        "s1"
      ],
      "metadata": {
        "id": "h8OywWx__Qna",
        "outputId": "41beeac9-8678-4ec9-f5eb-b5e24ffc7020",
        "colab": {
          "base_uri": "https://localhost:8080/"
        }
      },
      "execution_count": 22,
      "outputs": [
        {
          "output_type": "execute_result",
          "data": {
            "text/plain": [
              "[1, 2, 3, 4, 5]"
            ]
          },
          "metadata": {},
          "execution_count": 22
        }
      ]
    },
    {
      "cell_type": "code",
      "source": [
        "s1[3]"
      ],
      "metadata": {
        "id": "tBS_MWfp_Rqp",
        "outputId": "2335a101-8b03-45fc-fe30-21312684b3c4",
        "colab": {
          "base_uri": "https://localhost:8080/"
        }
      },
      "execution_count": 24,
      "outputs": [
        {
          "output_type": "execute_result",
          "data": {
            "text/plain": [
              "4"
            ]
          },
          "metadata": {},
          "execution_count": 24
        }
      ]
    },
    {
      "cell_type": "code",
      "source": [
        "s1.add(0.988)"
      ],
      "metadata": {
        "id": "XXX9gM2K_TPv"
      },
      "execution_count": 27,
      "outputs": []
    },
    {
      "cell_type": "code",
      "source": [
        "s1"
      ],
      "metadata": {
        "id": "rDpgx5eG_c1N",
        "outputId": "ecb61651-3115-450e-cca3-e191c5be9cff",
        "colab": {
          "base_uri": "https://localhost:8080/"
        }
      },
      "execution_count": 30,
      "outputs": [
        {
          "output_type": "execute_result",
          "data": {
            "text/plain": [
              "{0.988, 1, 2, 3, 4, 5}"
            ]
          },
          "metadata": {},
          "execution_count": 30
        }
      ]
    },
    {
      "cell_type": "code",
      "source": [
        "my_set = {1,2,3,4,5}\n",
        "num=3\n",
        "my_list = list(my_set)\n",
        "type(my_list)"
      ],
      "metadata": {
        "id": "5UuqiA53_fgA",
        "outputId": "a5d47361-fabf-4e0c-aa8f-2346f27d1ce3",
        "colab": {
          "base_uri": "https://localhost:8080/"
        }
      },
      "execution_count": 32,
      "outputs": [
        {
          "output_type": "execute_result",
          "data": {
            "text/plain": [
              "list"
            ]
          },
          "metadata": {},
          "execution_count": 32
        }
      ]
    },
    {
      "cell_type": "code",
      "source": [
        "if num in my_list:\n",
        "  print(\"\")"
      ],
      "metadata": {
        "id": "TPQjFwj9BrVc"
      },
      "execution_count": null,
      "outputs": []
    }
  ]
}