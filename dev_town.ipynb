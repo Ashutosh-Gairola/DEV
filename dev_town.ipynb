{
  "nbformat": 4,
  "nbformat_minor": 0,
  "metadata": {
    "colab": {
      "provenance": [],
      "authorship_tag": "ABX9TyNM5SfFS+NYmPbN6eg5bOsj",
      "include_colab_link": true
    },
    "kernelspec": {
      "name": "python3",
      "display_name": "Python 3"
    },
    "language_info": {
      "name": "python"
    }
  },
  "cells": [
    {
      "cell_type": "markdown",
      "metadata": {
        "id": "view-in-github",
        "colab_type": "text"
      },
      "source": [
        "<a href=\"https://colab.research.google.com/github/Ashutosh-Gairola/DEV/blob/main/dev_town.ipynb\" target=\"_parent\"><img src=\"https://colab.research.google.com/assets/colab-badge.svg\" alt=\"Open In Colab\"/></a>"
      ]
    },
    {
      "cell_type": "code",
      "execution_count": 1,
      "metadata": {
        "id": "gnjR0sU7Vk2v",
        "outputId": "1f9a2ef5-b340-44cd-a839-d97ce2959c8c",
        "colab": {
          "base_uri": "https://localhost:8080/"
        }
      },
      "outputs": [
        {
          "output_type": "stream",
          "name": "stdout",
          "text": [
            "hello\n"
          ]
        }
      ],
      "source": [
        "print(\"hello\")"
      ]
    },
    {
      "cell_type": "code",
      "source": [
        "print(2)"
      ],
      "metadata": {
        "id": "SAR_dBuQbzlv",
        "outputId": "ff33674c-1b90-42de-d9f0-acc3ef7d2d8f",
        "colab": {
          "base_uri": "https://localhost:8080/"
        }
      },
      "execution_count": null,
      "outputs": [
        {
          "output_type": "stream",
          "name": "stdout",
          "text": [
            "2\n"
          ]
        }
      ]
    },
    {
      "cell_type": "code",
      "source": [
        "x=1000\n"
      ],
      "metadata": {
        "id": "NxjnYvjHb2KE"
      },
      "execution_count": null,
      "outputs": []
    },
    {
      "cell_type": "code",
      "source": [
        "print(x)"
      ],
      "metadata": {
        "id": "ETgkqqJDb4YV",
        "outputId": "924efc8b-b425-4506-eb0e-dbb9c990971c",
        "colab": {
          "base_uri": "https://localhost:8080/"
        }
      },
      "execution_count": null,
      "outputs": [
        {
          "output_type": "stream",
          "name": "stdout",
          "text": [
            "1000\n"
          ]
        }
      ]
    },
    {
      "cell_type": "code",
      "source": [
        "x"
      ],
      "metadata": {
        "id": "gBNStAMDb5fU",
        "outputId": "eaf57d7f-3371-4dd7-cdf0-092b6d1cc0e1",
        "colab": {
          "base_uri": "https://localhost:8080/"
        }
      },
      "execution_count": null,
      "outputs": [
        {
          "output_type": "execute_result",
          "data": {
            "text/plain": [
              "1000"
            ]
          },
          "metadata": {},
          "execution_count": 5
        }
      ]
    },
    {
      "cell_type": "code",
      "source": [
        "string=\"my name is raararara\""
      ],
      "metadata": {
        "id": "hkPs3PoHb5yb"
      },
      "execution_count": null,
      "outputs": []
    },
    {
      "cell_type": "code",
      "source": [
        "string"
      ],
      "metadata": {
        "id": "yyClIRaPcJQv",
        "outputId": "682bfc07-4f72-497d-b0ac-50443e4e970f",
        "colab": {
          "base_uri": "https://localhost:8080/",
          "height": 36
        }
      },
      "execution_count": null,
      "outputs": [
        {
          "output_type": "execute_result",
          "data": {
            "text/plain": [
              "'my name is raararara'"
            ],
            "application/vnd.google.colaboratory.intrinsic+json": {
              "type": "string"
            }
          },
          "metadata": {},
          "execution_count": 7
        }
      ]
    },
    {
      "cell_type": "code",
      "source": [
        "x=20.21"
      ],
      "metadata": {
        "id": "b86pg1RxcNRW"
      },
      "execution_count": null,
      "outputs": []
    },
    {
      "cell_type": "code",
      "source": [
        "type(x)\n"
      ],
      "metadata": {
        "id": "MPqOF2GXcQCM",
        "outputId": "052fbc51-f619-4d27-dab6-f3754704f82a",
        "colab": {
          "base_uri": "https://localhost:8080/"
        }
      },
      "execution_count": null,
      "outputs": [
        {
          "output_type": "execute_result",
          "data": {
            "text/plain": [
              "float"
            ]
          },
          "metadata": {},
          "execution_count": 9
        }
      ]
    },
    {
      "cell_type": "code",
      "source": [
        "print(x)"
      ],
      "metadata": {
        "id": "nMaVyf-IcSjo",
        "outputId": "b432e93a-28ac-4ac8-daae-d4088f9dfc1c",
        "colab": {
          "base_uri": "https://localhost:8080/"
        }
      },
      "execution_count": null,
      "outputs": [
        {
          "output_type": "stream",
          "name": "stdout",
          "text": [
            "20.21\n"
          ]
        }
      ]
    },
    {
      "cell_type": "code",
      "source": [
        "y=2"
      ],
      "metadata": {
        "id": "F9Mg1H76cUvJ"
      },
      "execution_count": null,
      "outputs": []
    },
    {
      "cell_type": "code",
      "source": [
        "x+y"
      ],
      "metadata": {
        "id": "-mZAz16ccaX0",
        "outputId": "d3161840-a9c8-4843-adab-69390ed3e0a0",
        "colab": {
          "base_uri": "https://localhost:8080/"
        }
      },
      "execution_count": null,
      "outputs": [
        {
          "output_type": "execute_result",
          "data": {
            "text/plain": [
              "22.21"
            ]
          },
          "metadata": {},
          "execution_count": 12
        }
      ]
    },
    {
      "cell_type": "code",
      "source": [
        "'''\n",
        "helllo\n",
        "\n",
        "'''"
      ],
      "metadata": {
        "id": "6lpIoqKFcc5L",
        "outputId": "5f03e3d2-9094-4ad8-c662-d51598d8c804",
        "colab": {
          "base_uri": "https://localhost:8080/",
          "height": 36
        }
      },
      "execution_count": null,
      "outputs": [
        {
          "output_type": "execute_result",
          "data": {
            "text/plain": [
              "'\\nhelllo\\n\\n'"
            ],
            "application/vnd.google.colaboratory.intrinsic+json": {
              "type": "string"
            }
          },
          "metadata": {},
          "execution_count": 13
        }
      ]
    },
    {
      "cell_type": "code",
      "source": [
        "____=\"hello\""
      ],
      "metadata": {
        "id": "vT9jAH4rdH1_"
      },
      "execution_count": null,
      "outputs": []
    },
    {
      "cell_type": "code",
      "source": [
        "____"
      ],
      "metadata": {
        "id": "0j571Mvge-RT",
        "outputId": "54d5eac2-ec4a-48b2-ee1b-4ec50330ccff",
        "colab": {
          "base_uri": "https://localhost:8080/",
          "height": 36
        }
      },
      "execution_count": null,
      "outputs": [
        {
          "output_type": "execute_result",
          "data": {
            "text/plain": [
              "'hello'"
            ],
            "application/vnd.google.colaboratory.intrinsic+json": {
              "type": "string"
            }
          },
          "metadata": {},
          "execution_count": 15
        }
      ]
    },
    {
      "cell_type": "code",
      "source": [
        "a=True"
      ],
      "metadata": {
        "id": "JCyuZunwe_JV"
      },
      "execution_count": null,
      "outputs": []
    },
    {
      "cell_type": "code",
      "source": [
        "type(a)"
      ],
      "metadata": {
        "id": "XfdAYinEfCT_",
        "outputId": "aa26ba6f-e295-4f81-bdfe-02fe54cfd953",
        "colab": {
          "base_uri": "https://localhost:8080/"
        }
      },
      "execution_count": null,
      "outputs": [
        {
          "output_type": "execute_result",
          "data": {
            "text/plain": [
              "bool"
            ]
          },
          "metadata": {},
          "execution_count": 17
        }
      ]
    },
    {
      "cell_type": "code",
      "source": [
        "abc=\"1901\""
      ],
      "metadata": {
        "id": "ILvKdy53fSSc"
      },
      "execution_count": null,
      "outputs": []
    },
    {
      "cell_type": "code",
      "source": [
        "type(abc)"
      ],
      "metadata": {
        "id": "37Ml4fmdf6IZ",
        "outputId": "7c58ecf1-80dd-4ec4-dc21-5af0340a1586",
        "colab": {
          "base_uri": "https://localhost:8080/"
        }
      },
      "execution_count": null,
      "outputs": [
        {
          "output_type": "execute_result",
          "data": {
            "text/plain": [
              "str"
            ]
          },
          "metadata": {},
          "execution_count": 19
        }
      ]
    },
    {
      "cell_type": "code",
      "source": [
        "abc*y"
      ],
      "metadata": {
        "id": "ppa7OxUyf8Fp",
        "outputId": "23a5cf92-4b38-483c-98c5-4ce295e45bf1",
        "colab": {
          "base_uri": "https://localhost:8080/",
          "height": 36
        }
      },
      "execution_count": null,
      "outputs": [
        {
          "output_type": "execute_result",
          "data": {
            "text/plain": [
              "'19011901'"
            ],
            "application/vnd.google.colaboratory.intrinsic+json": {
              "type": "string"
            }
          },
          "metadata": {},
          "execution_count": 20
        }
      ]
    },
    {
      "cell_type": "code",
      "source": [
        "7%3+6-4//3"
      ],
      "metadata": {
        "id": "3DhAOQZVgETJ",
        "outputId": "040d2e54-a675-4d5b-ede3-16ee38009292",
        "colab": {
          "base_uri": "https://localhost:8080/"
        }
      },
      "execution_count": null,
      "outputs": [
        {
          "output_type": "execute_result",
          "data": {
            "text/plain": [
              "6"
            ]
          },
          "metadata": {},
          "execution_count": 21
        }
      ]
    },
    {
      "cell_type": "code",
      "source": [
        "9+7*4-(6/4*2-8)"
      ],
      "metadata": {
        "id": "H40CY_xBj-h7",
        "outputId": "23a19b7a-2acf-4f16-f6e5-45a57d02fa8f",
        "colab": {
          "base_uri": "https://localhost:8080/"
        }
      },
      "execution_count": null,
      "outputs": [
        {
          "output_type": "execute_result",
          "data": {
            "text/plain": [
              "42.0"
            ]
          },
          "metadata": {},
          "execution_count": 22
        }
      ]
    },
    {
      "cell_type": "code",
      "source": [
        "2+3*4/2"
      ],
      "metadata": {
        "id": "BzKIqhRKky66",
        "outputId": "5ad7ec2c-682b-4114-a952-efdabc65636f",
        "colab": {
          "base_uri": "https://localhost:8080/"
        }
      },
      "execution_count": null,
      "outputs": [
        {
          "output_type": "execute_result",
          "data": {
            "text/plain": [
              "8.0"
            ]
          },
          "metadata": {},
          "execution_count": 23
        }
      ]
    },
    {
      "cell_type": "markdown",
      "source": [
        "# **control flow**"
      ],
      "metadata": {
        "id": "bN3jK0gXqI0X"
      }
    },
    {
      "cell_type": "code",
      "source": [
        "# number is even or odd\n",
        "num=int(input(\"enter the number=\"))\n",
        "num1=input(\"enter the number=\")\n",
        "\n",
        "if num%2==0:\n",
        "  print(\"even\")\n",
        "else:\n",
        "  print(\"odd\")"
      ],
      "metadata": {
        "id": "-aAyUsEfpdDS",
        "outputId": "aed80079-db7a-4e77-9712-b5993fd61dbb",
        "colab": {
          "base_uri": "https://localhost:8080/"
        }
      },
      "execution_count": null,
      "outputs": [
        {
          "output_type": "stream",
          "name": "stdout",
          "text": [
            "enter the number=1\n",
            "enter the number=12\n",
            "odd\n"
          ]
        }
      ]
    },
    {
      "cell_type": "code",
      "source": [
        "type(num),type(num1)"
      ],
      "metadata": {
        "id": "aZp2jl2Zre3K",
        "outputId": "332a4dd4-3cd4-40c7-ef93-340df74633a1",
        "colab": {
          "base_uri": "https://localhost:8080/"
        }
      },
      "execution_count": null,
      "outputs": [
        {
          "output_type": "execute_result",
          "data": {
            "text/plain": [
              "(int, str)"
            ]
          },
          "metadata": {},
          "execution_count": 25
        }
      ]
    },
    {
      "cell_type": "code",
      "source": [
        "num1=7\n",
        "num2=8\n"
      ],
      "metadata": {
        "id": "pNsDG4mcuCl7"
      },
      "execution_count": null,
      "outputs": []
    },
    {
      "cell_type": "code",
      "source": [
        "if num1 == num2:\n",
        "  print(\"equal\")\n",
        "elif num1 > num2:\n",
        "  print(\"num1 is greater\")\n",
        "else:\n",
        "  print('num2 is greater')"
      ],
      "metadata": {
        "id": "4sTtZ5E5vYNq",
        "outputId": "4aa1fdae-5079-47a8-bdb0-168e229b4978",
        "colab": {
          "base_uri": "https://localhost:8080/"
        }
      },
      "execution_count": null,
      "outputs": [
        {
          "output_type": "stream",
          "name": "stdout",
          "text": [
            "num2 is greater\n"
          ]
        }
      ]
    },
    {
      "cell_type": "code",
      "source": [
        "a=6;b=9\n",
        "sign=input(\"enter sign=\")\n",
        "if sign==\"+\":\n",
        "  c=a+b\n",
        "\n",
        "if sign==\"-\":\n",
        "  c=a-b\n",
        "\n",
        "if sign==\"*\":\n",
        "  c=a*b\n",
        "\n",
        "if sign==\"/\":\n",
        "  c=a/b\n",
        "\n",
        "if sign==\"%\":\n",
        "  c=a%b\n",
        "\n",
        "if sign==\"//\":\n",
        "  c=a//b\n",
        "print(c)\n"
      ],
      "metadata": {
        "id": "DJkyaDh-vlNd",
        "outputId": "e5b0ac40-7464-4ab1-fad2-31ff580f4486",
        "colab": {
          "base_uri": "https://localhost:8080/"
        }
      },
      "execution_count": null,
      "outputs": [
        {
          "output_type": "stream",
          "name": "stdout",
          "text": [
            "enter sign=-\n",
            "-3\n"
          ]
        }
      ]
    },
    {
      "cell_type": "code",
      "source": [
        "while(True):\n",
        "  a=int(input(\"enter the number=\"))\n",
        "  b=int(input(\"enter the number=\"))\n",
        "  sign=input(\"enter operator =\")\n",
        "  if sign in [\"+\",\"-\",\"/\",\"*\",\"%\",\"//\"]:\n",
        "    print(\"valid operator\")\n",
        "    if sign==\"+\":\n",
        "      c=a+b\n",
        "\n",
        "    if sign==\"-\":\n",
        "      c=a-b\n",
        "\n",
        "    if sign==\"*\":\n",
        "      c=a*b\n",
        "\n",
        "    if sign==\"/\":\n",
        "      c=a/b\n",
        "\n",
        "    if sign==\"%\":\n",
        "      c=a%b\n",
        "\n",
        "    if sign==\"//\":\n",
        "      c=a//b\n",
        "\n",
        "  else:\n",
        "    print(\"invalid\")\n",
        "\n",
        "  print(c)"
      ],
      "metadata": {
        "id": "zUogVlhFwYhA",
        "outputId": "b71aea40-8b94-4a7a-9672-95a5464d511d",
        "colab": {
          "base_uri": "https://localhost:8080/"
        }
      },
      "execution_count": null,
      "outputs": [
        {
          "output_type": "stream",
          "name": "stdout",
          "text": [
            "enter the number=5\n",
            "enter the number=5\n",
            "enter sign=+\n",
            "valid operator\n",
            "10\n"
          ]
        }
      ]
    },
    {
      "cell_type": "code",
      "source": [
        "while True:\n",
        "\n",
        "  a = int(input(\"Enter the first number: \"))\n",
        "  b = int(input(\"Enter the second number: \"))\n",
        "  sign = input(\"Enter the operator: \")\n",
        "  lst=[\"+\", \"-\", \"/\", \"*\", \"%\", \"//\"]\n",
        "  if sign in lst:\n",
        "      print(\"Valid operator\")\n",
        "      if sign == \"+\":\n",
        "          c = a + b\n",
        "      elif sign == \"-\":\n",
        "          c = a - b\n",
        "      elif sign == \"*\":\n",
        "          c = a * b\n",
        "      elif sign == \"/\":\n",
        "          c = a / b\n",
        "      elif sign == \"%\":\n",
        "          c = a % b\n",
        "      elif sign == \"//\":\n",
        "          c = a // b\n",
        "      else:\n",
        "        print(\"try again there is some error\")\n",
        "      print(\"The result is \",c)\n",
        "  else:\n",
        "      print(\"Invalid operator\")\n",
        "\n",
        "  cont = input(\"Do you want to continue? (y/n): \")\n",
        "  if cont.lower() != \"y\":\n",
        "      break\n",
        "\n"
      ],
      "metadata": {
        "id": "5F5a0jsWT9bP",
        "outputId": "50a6fd5f-7664-41bc-abde-77d422321e7a",
        "colab": {
          "base_uri": "https://localhost:8080/"
        }
      },
      "execution_count": null,
      "outputs": [
        {
          "name": "stdout",
          "output_type": "stream",
          "text": [
            "Enter the first number: 55\n",
            "Enter the second number: 11\n",
            "Enter the operator: /\n",
            "Valid operator\n",
            "The result is 5.0\n",
            "Do you want to continue? (y/n): n\n"
          ]
        }
      ]
    },
    {
      "cell_type": "markdown",
      "source": [
        "# list"
      ],
      "metadata": {
        "id": "zXEhHKAN9JN5"
      }
    },
    {
      "cell_type": "code",
      "source": [
        "l1=[1,2,3,4]"
      ],
      "metadata": {
        "id": "vwxNVtKXVgPC"
      },
      "execution_count": null,
      "outputs": []
    },
    {
      "cell_type": "code",
      "source": [
        "type(l1)"
      ],
      "metadata": {
        "id": "fWeNRFJw9M1p",
        "outputId": "252a4a9c-311a-4ada-ad1b-16d00923be71",
        "colab": {
          "base_uri": "https://localhost:8080/"
        }
      },
      "execution_count": null,
      "outputs": [
        {
          "output_type": "execute_result",
          "data": {
            "text/plain": [
              "list"
            ]
          },
          "metadata": {},
          "execution_count": 4
        }
      ]
    },
    {
      "cell_type": "code",
      "source": [
        "import array\n",
        "int_array=array.array('i',[1,2,3,4,5,6])"
      ],
      "metadata": {
        "id": "9ersNaCU9OOv"
      },
      "execution_count": null,
      "outputs": []
    },
    {
      "cell_type": "code",
      "source": [
        "type(int_array)"
      ],
      "metadata": {
        "id": "cnn6hdZq9YOl",
        "outputId": "293db169-0929-4cb6-b999-0f8e49f2c3e9",
        "colab": {
          "base_uri": "https://localhost:8080/"
        }
      },
      "execution_count": null,
      "outputs": [
        {
          "output_type": "execute_result",
          "data": {
            "text/plain": [
              "array.array"
            ]
          },
          "metadata": {},
          "execution_count": 8
        }
      ]
    },
    {
      "cell_type": "code",
      "source": [
        "l2=[1,2,3,'4,0','hello',7.2]"
      ],
      "metadata": {
        "id": "Lyybb0tn9bsR"
      },
      "execution_count": null,
      "outputs": []
    },
    {
      "cell_type": "code",
      "source": [
        "l2[4]"
      ],
      "metadata": {
        "id": "A5DaAF3z-pMx",
        "outputId": "fbac3033-cc67-43fa-c1c2-cb74d632cbaa",
        "colab": {
          "base_uri": "https://localhost:8080/",
          "height": 36
        }
      },
      "execution_count": null,
      "outputs": [
        {
          "output_type": "execute_result",
          "data": {
            "text/plain": [
              "'hello'"
            ],
            "application/vnd.google.colaboratory.intrinsic+json": {
              "type": "string"
            }
          },
          "metadata": {},
          "execution_count": 10
        }
      ]
    },
    {
      "cell_type": "code",
      "source": [
        "l2[5]"
      ],
      "metadata": {
        "id": "UOlafQrx-qdM",
        "outputId": "548202f3-3f56-485c-b7f9-7411c14d0b82",
        "colab": {
          "base_uri": "https://localhost:8080/"
        }
      },
      "execution_count": null,
      "outputs": [
        {
          "output_type": "execute_result",
          "data": {
            "text/plain": [
              "7.2"
            ]
          },
          "metadata": {},
          "execution_count": 11
        }
      ]
    },
    {
      "cell_type": "code",
      "source": [
        "l2.append(88)"
      ],
      "metadata": {
        "id": "Up7pqWLh-seJ"
      },
      "execution_count": null,
      "outputs": []
    },
    {
      "cell_type": "code",
      "source": [
        "l2\n"
      ],
      "metadata": {
        "id": "ENpFeOZo-0qZ",
        "outputId": "309da099-9538-40a2-ed30-a5006989da60",
        "colab": {
          "base_uri": "https://localhost:8080/"
        }
      },
      "execution_count": null,
      "outputs": [
        {
          "output_type": "execute_result",
          "data": {
            "text/plain": [
              "[1, 2, 3, '4,0', 'hello', 7.2, 88]"
            ]
          },
          "metadata": {},
          "execution_count": 13
        }
      ]
    },
    {
      "cell_type": "code",
      "source": [
        "l2.insert(1,32)"
      ],
      "metadata": {
        "id": "D0j4yQ2o-1iO"
      },
      "execution_count": null,
      "outputs": []
    },
    {
      "cell_type": "code",
      "source": [
        "l2"
      ],
      "metadata": {
        "id": "gaTQNd8B-6vC",
        "outputId": "e6ebb355-83ae-42eb-cbd1-164153095a5e",
        "colab": {
          "base_uri": "https://localhost:8080/"
        }
      },
      "execution_count": null,
      "outputs": [
        {
          "output_type": "execute_result",
          "data": {
            "text/plain": [
              "[1, 32, 2, 3, '4,0', 'hello', 7.2, 88]"
            ]
          },
          "metadata": {},
          "execution_count": 17
        }
      ]
    },
    {
      "cell_type": "code",
      "source": [
        "s1={1,2,3,4,5,1}"
      ],
      "metadata": {
        "id": "xXY7c0n3_BAZ"
      },
      "execution_count": null,
      "outputs": []
    },
    {
      "cell_type": "code",
      "source": [
        "s1"
      ],
      "metadata": {
        "id": "ZS69KN5p_F6I",
        "outputId": "c67c3f15-f768-4629-8f5a-7a64aa9c1003",
        "colab": {
          "base_uri": "https://localhost:8080/"
        }
      },
      "execution_count": null,
      "outputs": [
        {
          "output_type": "execute_result",
          "data": {
            "text/plain": [
              "{1, 2, 3, 4, 5}"
            ]
          },
          "metadata": {},
          "execution_count": 19
        }
      ]
    },
    {
      "cell_type": "code",
      "source": [
        "s1[4]"
      ],
      "metadata": {
        "id": "l3SeFj6X_G1C",
        "outputId": "11842a5b-4fc9-4fa1-cf3e-d3006306e5f1",
        "colab": {
          "base_uri": "https://localhost:8080/",
          "height": 175
        }
      },
      "execution_count": null,
      "outputs": [
        {
          "output_type": "error",
          "ename": "TypeError",
          "evalue": "ignored",
          "traceback": [
            "\u001b[0;31m---------------------------------------------------------------------------\u001b[0m",
            "\u001b[0;31mTypeError\u001b[0m                                 Traceback (most recent call last)",
            "\u001b[0;32m<ipython-input-20-167032143c76>\u001b[0m in \u001b[0;36m<cell line: 1>\u001b[0;34m()\u001b[0m\n\u001b[0;32m----> 1\u001b[0;31m \u001b[0ms1\u001b[0m\u001b[0;34m[\u001b[0m\u001b[0;36m4\u001b[0m\u001b[0;34m]\u001b[0m\u001b[0;34m\u001b[0m\u001b[0;34m\u001b[0m\u001b[0m\n\u001b[0m",
            "\u001b[0;31mTypeError\u001b[0m: 'set' object is not subscriptable"
          ]
        }
      ]
    },
    {
      "cell_type": "code",
      "source": [
        "s1=list(s1)"
      ],
      "metadata": {
        "id": "8ttMGtWs_I4B"
      },
      "execution_count": null,
      "outputs": []
    },
    {
      "cell_type": "code",
      "source": [
        "s1"
      ],
      "metadata": {
        "id": "h8OywWx__Qna",
        "outputId": "41beeac9-8678-4ec9-f5eb-b5e24ffc7020",
        "colab": {
          "base_uri": "https://localhost:8080/"
        }
      },
      "execution_count": null,
      "outputs": [
        {
          "output_type": "execute_result",
          "data": {
            "text/plain": [
              "[1, 2, 3, 4, 5]"
            ]
          },
          "metadata": {},
          "execution_count": 22
        }
      ]
    },
    {
      "cell_type": "code",
      "source": [
        "s1[3]"
      ],
      "metadata": {
        "id": "tBS_MWfp_Rqp",
        "outputId": "2335a101-8b03-45fc-fe30-21312684b3c4",
        "colab": {
          "base_uri": "https://localhost:8080/"
        }
      },
      "execution_count": null,
      "outputs": [
        {
          "output_type": "execute_result",
          "data": {
            "text/plain": [
              "4"
            ]
          },
          "metadata": {},
          "execution_count": 24
        }
      ]
    },
    {
      "cell_type": "code",
      "source": [
        "s1.add(0.988)"
      ],
      "metadata": {
        "id": "XXX9gM2K_TPv"
      },
      "execution_count": null,
      "outputs": []
    },
    {
      "cell_type": "code",
      "source": [
        "s1"
      ],
      "metadata": {
        "id": "rDpgx5eG_c1N",
        "outputId": "ecb61651-3115-450e-cca3-e191c5be9cff",
        "colab": {
          "base_uri": "https://localhost:8080/"
        }
      },
      "execution_count": null,
      "outputs": [
        {
          "output_type": "execute_result",
          "data": {
            "text/plain": [
              "{0.988, 1, 2, 3, 4, 5}"
            ]
          },
          "metadata": {},
          "execution_count": 30
        }
      ]
    },
    {
      "cell_type": "code",
      "source": [
        "my_set = {1,2,3,4,5}\n",
        "num=3\n",
        "my_list = list(my_set)\n",
        "type(my_list)"
      ],
      "metadata": {
        "id": "5UuqiA53_fgA",
        "outputId": "a5d47361-fabf-4e0c-aa8f-2346f27d1ce3",
        "colab": {
          "base_uri": "https://localhost:8080/"
        }
      },
      "execution_count": null,
      "outputs": [
        {
          "output_type": "execute_result",
          "data": {
            "text/plain": [
              "list"
            ]
          },
          "metadata": {},
          "execution_count": 32
        }
      ]
    },
    {
      "cell_type": "code",
      "source": [
        "if num in my_list:\n",
        "  print(\"\")"
      ],
      "metadata": {
        "id": "TPQjFwj9BrVc"
      },
      "execution_count": null,
      "outputs": []
    },
    {
      "cell_type": "code",
      "source": [
        "# python code to find a prime number\n",
        "num = int(input(\"Enter a number: \"))\n",
        "if num > 1:\n",
        "    for i in range(2,num):\n",
        "         if (num % i) == 0:\n",
        "              print(num,\"is not a prime number\")\n",
        "              print(i,\"times\",num//i,\"is\",num)\n",
        "              break\n",
        "    else:\n",
        "         print(num,\"is a prime number\")\n",
        "else:\n",
        "    print(num,\"is not a prime number\")\n"
      ],
      "metadata": {
        "id": "zD7sThzPllfU",
        "outputId": "3352db49-c4f0-4c5e-9c41-f156b2ee7c8e",
        "colab": {
          "base_uri": "https://localhost:8080/"
        }
      },
      "execution_count": null,
      "outputs": [
        {
          "output_type": "stream",
          "name": "stdout",
          "text": [
            "Enter a number: 35\n",
            "35 is not a prime number\n",
            "5 times 7 is 35\n"
          ]
        }
      ]
    },
    {
      "cell_type": "code",
      "source": [
        "# code to calculate the simple interest\n",
        "p = float(input(\"Enter the principal amount: \"))\n",
        "n = float(input(\"Enter the number of years: \"))\n",
        "r = float(input(\"Enter the rate of interest: \"))\n",
        "si = (p*n*r)/100\n",
        "print(\"Simple interest: \",si)\n"
      ],
      "metadata": {
        "id": "eoiKoUNbln0y",
        "outputId": "e7a2ec13-4ebe-4c72-94fe-7fe0d91921e3",
        "colab": {
          "base_uri": "https://localhost:8080/"
        }
      },
      "execution_count": null,
      "outputs": [
        {
          "output_type": "stream",
          "name": "stdout",
          "text": [
            "Enter the principal amount: 5\n",
            "Enter the number of years: 3\n",
            "Enter the rate of interest: 1\n",
            "Simple interest:  0.15\n"
          ]
        }
      ]
    },
    {
      "cell_type": "code",
      "source": [
        "# code to find area of circle\n",
        "r = float(input(\"Enter the radius of the circle: \"))\n",
        "area = 3.14*r*r\n",
        "print(\"Area of the circle is: \",area)\n"
      ],
      "metadata": {
        "id": "daDwiq_dlpxX",
        "outputId": "1face52b-3345-404a-9066-d40b13d39e63",
        "colab": {
          "base_uri": "https://localhost:8080/"
        }
      },
      "execution_count": null,
      "outputs": [
        {
          "output_type": "stream",
          "name": "stdout",
          "text": [
            "Enter the radius of the circle: 33\n",
            "Area of the circle is:  3419.46\n"
          ]
        }
      ]
    },
    {
      "cell_type": "code",
      "source": [
        "# print number from 1 to 10 by excluding 4 and 5\n",
        "for i in range(1,11):\n",
        "    if(i==4 or i==5):\n",
        "        continue\n",
        "    print(i)\n"
      ],
      "metadata": {
        "id": "Z5JHCgbJlpt5",
        "outputId": "06622669-c2ba-40cc-84ee-aa8d135ec284",
        "colab": {
          "base_uri": "https://localhost:8080/"
        }
      },
      "execution_count": null,
      "outputs": [
        {
          "output_type": "stream",
          "name": "stdout",
          "text": [
            "1\n",
            "2\n",
            "3\n",
            "6\n",
            "7\n",
            "8\n",
            "9\n",
            "10\n"
          ]
        }
      ]
    },
    {
      "cell_type": "code",
      "source": [
        "'''\n",
        "print this pattern\n",
        "1\n",
        "1 2\n",
        "1 2 3\n",
        "1 2 3 4\n",
        "'''\n",
        "\n",
        "for i in range(1,5):\n",
        "    for j in range(1,i+1):\n",
        "        print(j,end=\" \")\n",
        "    print()\n"
      ],
      "metadata": {
        "id": "_hLFoLVVlpru",
        "outputId": "79109e30-dc5a-4103-b552-e1a94f06b42c",
        "colab": {
          "base_uri": "https://localhost:8080/"
        }
      },
      "execution_count": null,
      "outputs": [
        {
          "output_type": "stream",
          "name": "stdout",
          "text": [
            "1 \n",
            "1 2 \n",
            "1 2 3 \n",
            "1 2 3 4 \n"
          ]
        }
      ]
    },
    {
      "cell_type": "code",
      "source": [
        "# factorial of a number\n",
        "num = int(input(\"Enter a number: \"))\n",
        "fact = 1\n",
        "for i in range(1,num+1):\n",
        "    fact = fact*i\n",
        "print(\"Factorial of\",num,\"is\",fact)\n"
      ],
      "metadata": {
        "id": "W9wENJuIlppB",
        "outputId": "3b824846-aa6c-4b23-ec55-bbd6e3ecc1ca",
        "colab": {
          "base_uri": "https://localhost:8080/"
        }
      },
      "execution_count": null,
      "outputs": [
        {
          "output_type": "stream",
          "name": "stdout",
          "text": [
            "Enter a number: 55\n",
            "Factorial of 55 is 12696403353658275925965100847566516959580321051449436762275840000000000000\n"
          ]
        }
      ]
    },
    {
      "cell_type": "code",
      "source": [
        "f=(1,2,3,4,5,6)"
      ],
      "metadata": {
        "id": "kC79uoIclpmy"
      },
      "execution_count": null,
      "outputs": []
    },
    {
      "cell_type": "code",
      "source": [
        "type(f)"
      ],
      "metadata": {
        "id": "_OcaqRIYlpkd",
        "outputId": "6d2b8c12-d127-4984-81d3-5570bce9117c",
        "colab": {
          "base_uri": "https://localhost:8080/"
        }
      },
      "execution_count": null,
      "outputs": [
        {
          "output_type": "execute_result",
          "data": {
            "text/plain": [
              "tuple"
            ]
          },
          "metadata": {},
          "execution_count": 2
        }
      ]
    },
    {
      "cell_type": "code",
      "source": [
        "f.count(2)"
      ],
      "metadata": {
        "id": "Zo-Lq-0nlpiK",
        "outputId": "87606e40-5208-42d3-ba6c-001050f9bd2a",
        "colab": {
          "base_uri": "https://localhost:8080/"
        }
      },
      "execution_count": null,
      "outputs": [
        {
          "output_type": "execute_result",
          "data": {
            "text/plain": [
              "1"
            ]
          },
          "metadata": {},
          "execution_count": 3
        }
      ]
    },
    {
      "cell_type": "code",
      "source": [
        "list_1=[1,2,3,4,2,3,1,3,\"rockstar\",\"superstar\"]"
      ],
      "metadata": {
        "id": "nuBHgaELlpft"
      },
      "execution_count": null,
      "outputs": []
    },
    {
      "cell_type": "code",
      "source": [
        "list_1.reverse()"
      ],
      "metadata": {
        "id": "ASyga5FJlpdH",
        "outputId": "012e5bb2-736e-4328-bd83-ddf10cddc427",
        "colab": {
          "base_uri": "https://localhost:8080/"
        }
      },
      "execution_count": null,
      "outputs": [
        {
          "output_type": "stream",
          "name": "stdout",
          "text": [
            "None\n"
          ]
        }
      ]
    },
    {
      "cell_type": "code",
      "source": [
        "list_1"
      ],
      "metadata": {
        "id": "SFbNY6Fb9mi_",
        "outputId": "52c38c1f-cc68-475b-a0c1-f6efdfee4df6",
        "colab": {
          "base_uri": "https://localhost:8080/"
        }
      },
      "execution_count": null,
      "outputs": [
        {
          "output_type": "execute_result",
          "data": {
            "text/plain": [
              "[1, 2, 3, 4, 2, 3, 1, 3, 'rockstar', 'superstar']"
            ]
          },
          "metadata": {},
          "execution_count": 7
        }
      ]
    },
    {
      "cell_type": "code",
      "source": [
        "list_1.append(1902)"
      ],
      "metadata": {
        "id": "5yE6ldMu9r6C"
      },
      "execution_count": null,
      "outputs": []
    },
    {
      "cell_type": "code",
      "source": [
        "list_1"
      ],
      "metadata": {
        "id": "HhZo9QXr94Mh",
        "outputId": "00fcdcac-c3db-4ed2-a9d6-016364e93a43",
        "colab": {
          "base_uri": "https://localhost:8080/"
        }
      },
      "execution_count": null,
      "outputs": [
        {
          "output_type": "execute_result",
          "data": {
            "text/plain": [
              "[1, 2, 3, 4, 2, 3, 1, 3, 'rockstar', 'superstar', 1902]"
            ]
          },
          "metadata": {},
          "execution_count": 10
        }
      ]
    },
    {
      "cell_type": "code",
      "source": [
        "list_1.pop()"
      ],
      "metadata": {
        "id": "od0VdLCV-ACJ",
        "outputId": "72ca9cde-b81b-4405-b5bf-63d113a16295",
        "colab": {
          "base_uri": "https://localhost:8080/"
        }
      },
      "execution_count": null,
      "outputs": [
        {
          "output_type": "execute_result",
          "data": {
            "text/plain": [
              "1902"
            ]
          },
          "metadata": {},
          "execution_count": 12
        }
      ]
    },
    {
      "cell_type": "code",
      "source": [
        "list_1"
      ],
      "metadata": {
        "id": "LcmgQmZ2-C5X",
        "outputId": "81417bc4-dda3-4950-e0dd-5b3f9322958a",
        "colab": {
          "base_uri": "https://localhost:8080/"
        }
      },
      "execution_count": null,
      "outputs": [
        {
          "output_type": "execute_result",
          "data": {
            "text/plain": [
              "[1, 2, 3, 4, 2, 3, 1, 3, 'rockstar', 'superstar']"
            ]
          },
          "metadata": {},
          "execution_count": 13
        }
      ]
    },
    {
      "cell_type": "code",
      "source": [
        "list_1.remove(2)"
      ],
      "metadata": {
        "id": "nNMu06ke-G_A"
      },
      "execution_count": null,
      "outputs": []
    },
    {
      "cell_type": "code",
      "source": [
        "list_1"
      ],
      "metadata": {
        "id": "BMA0J2Ht-qIh",
        "outputId": "6cb97742-ad86-4542-9c16-ae38e3bbcc39",
        "colab": {
          "base_uri": "https://localhost:8080/"
        }
      },
      "execution_count": null,
      "outputs": [
        {
          "output_type": "execute_result",
          "data": {
            "text/plain": [
              "[1, 3, 4, 2, 3, 1, 3, 'rockstar', 'superstar']"
            ]
          },
          "metadata": {},
          "execution_count": 15
        }
      ]
    },
    {
      "cell_type": "code",
      "source": [
        "l1=[1,2,3,4,5]"
      ],
      "metadata": {
        "id": "0SlyC6bX-sH6"
      },
      "execution_count": null,
      "outputs": []
    },
    {
      "cell_type": "code",
      "source": [
        "l1[4]"
      ],
      "metadata": {
        "id": "dGcX0l7-F2Kw",
        "outputId": "f8f46595-8a7b-47eb-819f-ad5563a96362",
        "colab": {
          "base_uri": "https://localhost:8080/"
        }
      },
      "execution_count": null,
      "outputs": [
        {
          "output_type": "execute_result",
          "data": {
            "text/plain": [
              "5"
            ]
          },
          "metadata": {},
          "execution_count": 2
        }
      ]
    },
    {
      "cell_type": "code",
      "source": [
        "l1[-3]"
      ],
      "metadata": {
        "id": "lsv1r276F4MR",
        "outputId": "7ee315c5-c224-4a7b-a60f-956a2959260d",
        "colab": {
          "base_uri": "https://localhost:8080/"
        }
      },
      "execution_count": null,
      "outputs": [
        {
          "output_type": "execute_result",
          "data": {
            "text/plain": [
              "3"
            ]
          },
          "metadata": {},
          "execution_count": 7
        }
      ]
    },
    {
      "cell_type": "code",
      "source": [
        "l1[::]"
      ],
      "metadata": {
        "id": "Dky0TepMF73Z",
        "outputId": "f76d2277-6ba7-4075-abfc-6ca01061162b",
        "colab": {
          "base_uri": "https://localhost:8080/"
        }
      },
      "execution_count": null,
      "outputs": [
        {
          "output_type": "execute_result",
          "data": {
            "text/plain": [
              "[1, 2, 3, 4, 5]"
            ]
          },
          "metadata": {},
          "execution_count": 8
        }
      ]
    },
    {
      "cell_type": "code",
      "source": [
        "l1[:-1]"
      ],
      "metadata": {
        "id": "bU75aD41GQa6",
        "outputId": "e704f5d7-f8ef-45ee-aee3-ff1d646ca818",
        "colab": {
          "base_uri": "https://localhost:8080/"
        }
      },
      "execution_count": null,
      "outputs": [
        {
          "output_type": "execute_result",
          "data": {
            "text/plain": [
              "[1, 2, 3, 4]"
            ]
          },
          "metadata": {},
          "execution_count": 9
        }
      ]
    },
    {
      "cell_type": "code",
      "source": [
        "l1.reverse()"
      ],
      "metadata": {
        "id": "on0-zHd4GTq6"
      },
      "execution_count": null,
      "outputs": []
    },
    {
      "cell_type": "code",
      "source": [
        "l2=l1[::-1]"
      ],
      "metadata": {
        "id": "FQWtST6DGW-U"
      },
      "execution_count": null,
      "outputs": []
    },
    {
      "cell_type": "code",
      "source": [
        "l2[::-1]"
      ],
      "metadata": {
        "id": "d1szQAm2GcAC",
        "outputId": "8a4d6138-78bc-4824-c731-f259ad86f061",
        "colab": {
          "base_uri": "https://localhost:8080/"
        }
      },
      "execution_count": null,
      "outputs": [
        {
          "output_type": "execute_result",
          "data": {
            "text/plain": [
              "[5, 4, 3, 2, 1]"
            ]
          },
          "metadata": {},
          "execution_count": 24
        }
      ]
    },
    {
      "cell_type": "code",
      "source": [
        "#l1=[5,4,3,2,1]\n",
        "#l2=[1,2,3,4,5]\n",
        "l2[2:5]"
      ],
      "metadata": {
        "id": "rfa3FkMeGf7u",
        "outputId": "8d50545f-1a34-4ad7-ddb7-4867719dcda6",
        "colab": {
          "base_uri": "https://localhost:8080/"
        }
      },
      "execution_count": null,
      "outputs": [
        {
          "output_type": "execute_result",
          "data": {
            "text/plain": [
              "[3, 4, 5]"
            ]
          },
          "metadata": {},
          "execution_count": 25
        }
      ]
    },
    {
      "cell_type": "code",
      "source": [
        "l1=[1,2,3,4,5]"
      ],
      "metadata": {
        "id": "JQfYKA9XHJIA"
      },
      "execution_count": null,
      "outputs": []
    },
    {
      "cell_type": "code",
      "source": [
        "l1[::-1]"
      ],
      "metadata": {
        "id": "hw9yhTbeHxJ5",
        "outputId": "7fa877fc-8719-4f2d-8529-ab8559764df6",
        "colab": {
          "base_uri": "https://localhost:8080/"
        }
      },
      "execution_count": null,
      "outputs": [
        {
          "output_type": "execute_result",
          "data": {
            "text/plain": [
              "[5, 4, 3, 2, 1]"
            ]
          },
          "metadata": {},
          "execution_count": 27
        }
      ]
    },
    {
      "cell_type": "code",
      "source": [
        "l1"
      ],
      "metadata": {
        "id": "svgaG3POHyqE",
        "outputId": "9dc910e9-32d9-45e0-c04b-5983e54bfa37",
        "colab": {
          "base_uri": "https://localhost:8080/"
        }
      },
      "execution_count": null,
      "outputs": [
        {
          "output_type": "execute_result",
          "data": {
            "text/plain": [
              "[1, 2, 3, 4, 5]"
            ]
          },
          "metadata": {},
          "execution_count": 28
        }
      ]
    },
    {
      "cell_type": "code",
      "source": [
        "l2"
      ],
      "metadata": {
        "id": "BrJYKeWHH1fN",
        "outputId": "f7c478e1-ddf0-4ec5-97c1-3a5b118b9931",
        "colab": {
          "base_uri": "https://localhost:8080/"
        }
      },
      "execution_count": null,
      "outputs": [
        {
          "output_type": "execute_result",
          "data": {
            "text/plain": [
              "[1, 2, 3, 4, 5]"
            ]
          },
          "metadata": {},
          "execution_count": 29
        }
      ]
    },
    {
      "cell_type": "code",
      "source": [
        "l1=l2[::-1]\n",
        "l1"
      ],
      "metadata": {
        "id": "o6Jl8OW5H94U",
        "outputId": "40bacf85-2668-4d4d-bf1b-82913e950626",
        "colab": {
          "base_uri": "https://localhost:8080/"
        }
      },
      "execution_count": null,
      "outputs": [
        {
          "output_type": "execute_result",
          "data": {
            "text/plain": [
              "[5, 4, 3, 2, 1]"
            ]
          },
          "metadata": {},
          "execution_count": 31
        }
      ]
    },
    {
      "cell_type": "code",
      "source": [
        "str1=[\"hello\",\"feeeee\"]"
      ],
      "metadata": {
        "id": "8RujHlRTIvBD"
      },
      "execution_count": null,
      "outputs": []
    },
    {
      "cell_type": "code",
      "source": [
        "str1[::-1]"
      ],
      "metadata": {
        "id": "-51g50QOJY2d",
        "outputId": "5f70b1f9-c142-4a73-b644-4abecc9fafbd",
        "colab": {
          "base_uri": "https://localhost:8080/"
        }
      },
      "execution_count": null,
      "outputs": [
        {
          "output_type": "execute_result",
          "data": {
            "text/plain": [
              "['feeeee', 'hello']"
            ]
          },
          "metadata": {},
          "execution_count": 44
        }
      ]
    },
    {
      "cell_type": "code",
      "source": [
        "str1[0]"
      ],
      "metadata": {
        "id": "BEhvzYOnJaQ0",
        "outputId": "24c8b0fb-6ce5-4678-bd72-90a8c75f598d",
        "colab": {
          "base_uri": "https://localhost:8080/",
          "height": 36
        }
      },
      "execution_count": null,
      "outputs": [
        {
          "output_type": "execute_result",
          "data": {
            "text/plain": [
              "'hello'"
            ],
            "application/vnd.google.colaboratory.intrinsic+json": {
              "type": "string"
            }
          },
          "metadata": {},
          "execution_count": 47
        }
      ]
    },
    {
      "cell_type": "code",
      "source": [
        "list1=[1,2,3,4,5,6,7,[1,2,3,4],(11,21,131),{111,23},\"hello\"]"
      ],
      "metadata": {
        "id": "cn_Xh7LIJ-zr"
      },
      "execution_count": null,
      "outputs": []
    },
    {
      "cell_type": "code",
      "source": [
        "list1[::-1]"
      ],
      "metadata": {
        "id": "UVUTE3VEKThZ",
        "outputId": "16dc6808-5b40-439f-ebe1-c6839fef1221",
        "colab": {
          "base_uri": "https://localhost:8080/"
        }
      },
      "execution_count": null,
      "outputs": [
        {
          "output_type": "execute_result",
          "data": {
            "text/plain": [
              "['hello', {23, 111}, (11, 21, 131), [1, 2, 3, 4], 7, 6, 5, 4, 3, 2, 1]"
            ]
          },
          "metadata": {},
          "execution_count": 53
        }
      ]
    },
    {
      "cell_type": "code",
      "source": [
        "list1[1]"
      ],
      "metadata": {
        "id": "W7Z0vVFmKXLT",
        "outputId": "5c58f2e1-7303-4a9e-b1d6-c51ada1f0191",
        "colab": {
          "base_uri": "https://localhost:8080/"
        }
      },
      "execution_count": null,
      "outputs": [
        {
          "output_type": "execute_result",
          "data": {
            "text/plain": [
              "2"
            ]
          },
          "metadata": {},
          "execution_count": 55
        }
      ]
    },
    {
      "cell_type": "code",
      "source": [
        "a1=list1[9]"
      ],
      "metadata": {
        "id": "QbNsCYBfKo7G"
      },
      "execution_count": null,
      "outputs": []
    },
    {
      "cell_type": "code",
      "source": [
        "type(a1)"
      ],
      "metadata": {
        "id": "PuHhmIsWLClQ",
        "outputId": "5d08a1a4-dcda-4b92-a352-5fa31ef1f2e9",
        "colab": {
          "base_uri": "https://localhost:8080/"
        }
      },
      "execution_count": null,
      "outputs": [
        {
          "output_type": "execute_result",
          "data": {
            "text/plain": [
              "set"
            ]
          },
          "metadata": {},
          "execution_count": 71
        }
      ]
    },
    {
      "cell_type": "code",
      "source": [
        "a1"
      ],
      "metadata": {
        "id": "QgkfSSfbLECW",
        "outputId": "96264662-355c-4ff2-8a2a-b12dc977d5ee",
        "colab": {
          "base_uri": "https://localhost:8080/"
        }
      },
      "execution_count": null,
      "outputs": [
        {
          "output_type": "execute_result",
          "data": {
            "text/plain": [
              "{23, 111}"
            ]
          },
          "metadata": {},
          "execution_count": 72
        }
      ]
    },
    {
      "cell_type": "code",
      "source": [
        "a1=tuple(a1)\n",
        "a1"
      ],
      "metadata": {
        "id": "hH5kW3B0LGBe",
        "outputId": "6a886b5a-4efe-472c-9639-8140daf4505d",
        "colab": {
          "base_uri": "https://localhost:8080/"
        }
      },
      "execution_count": null,
      "outputs": [
        {
          "output_type": "execute_result",
          "data": {
            "text/plain": [
              "(23, 111)"
            ]
          },
          "metadata": {},
          "execution_count": 73
        }
      ]
    },
    {
      "cell_type": "code",
      "source": [
        "a1[::-1]"
      ],
      "metadata": {
        "id": "Wbyk2dZ1LdAW",
        "outputId": "0dd661c0-09a2-46c1-aac5-e5d3e8c3646f",
        "colab": {
          "base_uri": "https://localhost:8080/"
        }
      },
      "execution_count": null,
      "outputs": [
        {
          "output_type": "execute_result",
          "data": {
            "text/plain": [
              "(111, 23)"
            ]
          },
          "metadata": {},
          "execution_count": 74
        }
      ]
    },
    {
      "cell_type": "code",
      "source": [
        "set_1={1,2,3}"
      ],
      "metadata": {
        "id": "lbxHE7ehMAyR"
      },
      "execution_count": null,
      "outputs": []
    },
    {
      "cell_type": "code",
      "source": [
        "l=list(set_1)"
      ],
      "metadata": {
        "id": "U4gkFUwsM3AO"
      },
      "execution_count": null,
      "outputs": []
    },
    {
      "cell_type": "code",
      "source": [
        "l"
      ],
      "metadata": {
        "id": "7eUDT1YMM6dk",
        "outputId": "3d1954be-1db0-4db1-d763-653bf7735d8b",
        "colab": {
          "base_uri": "https://localhost:8080/"
        }
      },
      "execution_count": null,
      "outputs": [
        {
          "output_type": "execute_result",
          "data": {
            "text/plain": [
              "[1, 2, 3]"
            ]
          },
          "metadata": {},
          "execution_count": 77
        }
      ]
    },
    {
      "cell_type": "code",
      "source": [
        "l[::-1]"
      ],
      "metadata": {
        "id": "ftN4nyKvM7d2",
        "outputId": "65f2a896-3e0a-4b94-db5f-a23701cc84c8",
        "colab": {
          "base_uri": "https://localhost:8080/"
        }
      },
      "execution_count": null,
      "outputs": [
        {
          "output_type": "execute_result",
          "data": {
            "text/plain": [
              "[3, 2, 1]"
            ]
          },
          "metadata": {},
          "execution_count": 78
        }
      ]
    },
    {
      "cell_type": "code",
      "source": [
        "l=set(l)"
      ],
      "metadata": {
        "id": "FuODo5GWNTdW"
      },
      "execution_count": null,
      "outputs": []
    },
    {
      "cell_type": "code",
      "source": [
        "l"
      ],
      "metadata": {
        "id": "D-IM6mmCNg1V",
        "outputId": "0e70433c-70cb-4214-e5ed-de3adbf0b09b",
        "colab": {
          "base_uri": "https://localhost:8080/"
        }
      },
      "execution_count": null,
      "outputs": [
        {
          "output_type": "execute_result",
          "data": {
            "text/plain": [
              "{1, 2, 3}"
            ]
          },
          "metadata": {},
          "execution_count": 88
        }
      ]
    },
    {
      "cell_type": "markdown",
      "source": [
        "# palindrome string"
      ],
      "metadata": {
        "id": "QyyE7AoXNxyO"
      }
    },
    {
      "cell_type": "code",
      "source": [
        "a=input(\"enter =\")\n",
        "a=tuple(a)\n",
        "b=a[::-1]\n",
        "if a==b:\n",
        "  print(\"palindrome\")\n",
        "else:\n",
        "  print(\"not a plaindrome\")"
      ],
      "metadata": {
        "id": "tuqlv6Q-NhgR",
        "outputId": "3135ea86-911f-4cb7-c6a1-1db8c361b093",
        "colab": {
          "base_uri": "https://localhost:8080/"
        }
      },
      "execution_count": null,
      "outputs": [
        {
          "output_type": "stream",
          "name": "stdout",
          "text": [
            "enter =32123\n",
            "palindrome\n"
          ]
        }
      ]
    },
    {
      "cell_type": "code",
      "source": [
        "a=[3,2,1,5,6,7,32,4,7,6,64,3,46,6,66,3,43]"
      ],
      "metadata": {
        "id": "iFGYxvYMO3hh"
      },
      "execution_count": null,
      "outputs": []
    },
    {
      "cell_type": "code",
      "source": [
        "b=set(a)"
      ],
      "metadata": {
        "id": "0v6LTFCPQSd9"
      },
      "execution_count": null,
      "outputs": []
    },
    {
      "cell_type": "code",
      "source": [
        "a"
      ],
      "metadata": {
        "id": "mFXXcXekQTI3",
        "outputId": "c61c7486-5468-42b5-96cf-a1afffa00611",
        "colab": {
          "base_uri": "https://localhost:8080/"
        }
      },
      "execution_count": null,
      "outputs": [
        {
          "output_type": "execute_result",
          "data": {
            "text/plain": [
              "[3, 2, 1, 5, 6, 7, 32, 4, 7, 6, 64, 3, 46, 6, 66, 3, 43]"
            ]
          },
          "metadata": {},
          "execution_count": 106
        }
      ]
    },
    {
      "cell_type": "code",
      "source": [
        "b"
      ],
      "metadata": {
        "id": "O7hhQRuEQmG0",
        "outputId": "1fca405b-62ed-431d-9cd1-6d587f40d18f",
        "colab": {
          "base_uri": "https://localhost:8080/"
        }
      },
      "execution_count": null,
      "outputs": [
        {
          "output_type": "execute_result",
          "data": {
            "text/plain": [
              "{1, 2, 3, 4, 5, 6, 7, 32, 43, 46, 64, 66}"
            ]
          },
          "metadata": {},
          "execution_count": 107
        }
      ]
    },
    {
      "cell_type": "code",
      "source": [
        "import random\n",
        "a=[]\n",
        "while True:\n",
        "  a.append(random.randint(1,99))\n",
        "  b=len(a)\n",
        "  if b==100:\n",
        "    break\n",
        "  else:\n",
        "    print(\"dd\")"
      ],
      "metadata": {
        "id": "amIDbuj6QtAC",
        "outputId": "811d8012-02ed-4836-e871-c6e54c586e26",
        "colab": {
          "base_uri": "https://localhost:8080/"
        }
      },
      "execution_count": null,
      "outputs": [
        {
          "output_type": "stream",
          "name": "stdout",
          "text": [
            "dd\n",
            "dd\n",
            "dd\n",
            "dd\n",
            "dd\n",
            "dd\n",
            "dd\n",
            "dd\n",
            "dd\n",
            "dd\n",
            "dd\n",
            "dd\n",
            "dd\n",
            "dd\n",
            "dd\n",
            "dd\n",
            "dd\n",
            "dd\n",
            "dd\n",
            "dd\n",
            "dd\n",
            "dd\n",
            "dd\n",
            "dd\n",
            "dd\n",
            "dd\n",
            "dd\n",
            "dd\n",
            "dd\n",
            "dd\n",
            "dd\n",
            "dd\n",
            "dd\n",
            "dd\n",
            "dd\n",
            "dd\n",
            "dd\n",
            "dd\n",
            "dd\n",
            "dd\n",
            "dd\n",
            "dd\n",
            "dd\n",
            "dd\n",
            "dd\n",
            "dd\n",
            "dd\n",
            "dd\n",
            "dd\n",
            "dd\n",
            "dd\n",
            "dd\n",
            "dd\n",
            "dd\n",
            "dd\n",
            "dd\n",
            "dd\n",
            "dd\n",
            "dd\n",
            "dd\n",
            "dd\n",
            "dd\n",
            "dd\n",
            "dd\n",
            "dd\n",
            "dd\n",
            "dd\n",
            "dd\n",
            "dd\n",
            "dd\n",
            "dd\n",
            "dd\n",
            "dd\n",
            "dd\n",
            "dd\n",
            "dd\n",
            "dd\n",
            "dd\n",
            "dd\n",
            "dd\n",
            "dd\n",
            "dd\n",
            "dd\n",
            "dd\n",
            "dd\n",
            "dd\n",
            "dd\n",
            "dd\n",
            "dd\n",
            "dd\n",
            "dd\n",
            "dd\n",
            "dd\n",
            "dd\n",
            "dd\n",
            "dd\n",
            "dd\n",
            "dd\n",
            "dd\n"
          ]
        }
      ]
    },
    {
      "cell_type": "code",
      "source": [
        "print(a,end=\" \")"
      ],
      "metadata": {
        "id": "2xjodwrGRLLQ",
        "outputId": "b1237833-575f-4fff-9287-89a8b35741da",
        "colab": {
          "base_uri": "https://localhost:8080/"
        }
      },
      "execution_count": null,
      "outputs": [
        {
          "output_type": "stream",
          "name": "stdout",
          "text": [
            "[22, 28, 62, 44, 54, 90, 83, 53, 66, 43, 41, 56, 51, 70, 76, 90, 74, 66, 42, 68, 42, 14, 57, 11, 23, 96, 3, 22, 77, 88, 58, 85, 33, 75, 81, 35, 70, 81, 27, 1, 38, 83, 67, 92, 15, 27, 55, 90, 36, 53, 88, 7, 13, 85, 63, 93, 21, 2, 37, 6, 85, 11, 20, 82, 85, 38, 67, 92, 88, 37, 9, 78, 77, 68, 50, 45, 51, 78, 72, 88, 93, 8, 78, 3, 95, 95, 69, 91, 79, 2, 7, 5, 71, 42, 56, 1, 4, 4, 56, 47] "
          ]
        }
      ]
    },
    {
      "cell_type": "code",
      "source": [
        "a=set(a)\n"
      ],
      "metadata": {
        "id": "bvgS-tiuRMAV"
      },
      "execution_count": null,
      "outputs": []
    },
    {
      "cell_type": "code",
      "source": [
        "print(a,end=\" \")"
      ],
      "metadata": {
        "id": "kN8-KxL9StUG",
        "outputId": "dbefb578-005d-469e-c815-4c825a100087",
        "colab": {
          "base_uri": "https://localhost:8080/"
        }
      },
      "execution_count": null,
      "outputs": [
        {
          "output_type": "stream",
          "name": "stdout",
          "text": [
            "{1, 2, 3, 4, 5, 6, 7, 8, 9, 11, 13, 14, 15, 20, 21, 22, 23, 27, 28, 33, 35, 36, 37, 38, 41, 42, 43, 44, 45, 47, 50, 51, 53, 54, 55, 56, 57, 58, 62, 63, 66, 67, 68, 69, 70, 71, 72, 74, 75, 76, 77, 78, 79, 81, 82, 83, 85, 88, 90, 91, 92, 93, 95, 96} "
          ]
        }
      ]
    },
    {
      "cell_type": "code",
      "source": [
        "while True:\n",
        "  a=input(\"enter =\")\n",
        "  a=tuple(a)\n",
        "  b=a[::-1]\n",
        "  if a==b:\n",
        "    print(\"palindrome \\n\")\n",
        "  else:\n",
        "    print(\"not a plaindrome \\n\")\n",
        "  if input(\"continue \")==\"no\":\n",
        "    break\n",
        "  else:\n",
        "\n",
        "    pass"
      ],
      "metadata": {
        "id": "PpYMpBWzSt3g",
        "outputId": "3a30c5cf-15aa-4a92-a569-7ba0bf816928",
        "colab": {
          "base_uri": "https://localhost:8080/"
        }
      },
      "execution_count": null,
      "outputs": [
        {
          "name": "stdout",
          "output_type": "stream",
          "text": [
            "enter =madam\n",
            "palindrome \n",
            "\n",
            "continueyes\n",
            "enter =nitin\n",
            "palindrome \n",
            "\n",
            "continueyes\n",
            "enter =abba\n",
            "palindrome \n",
            "\n",
            "continueyes\n",
            "enter =bccb\n",
            "palindrome \n",
            "\n",
            "continueyes\n",
            "enter =abcba\n",
            "palindrome \n",
            "\n",
            "continueyes\n",
            "enter =malyalam\n",
            "not a plaindrome \n",
            "\n",
            "continueno\n"
          ]
        }
      ]
    },
    {
      "cell_type": "markdown",
      "source": [
        "# changing the last element of list to first element using slicing"
      ],
      "metadata": {
        "id": "V9EnXQnnZ4fu"
      }
    },
    {
      "cell_type": "code",
      "source": [
        "lis=[1,2,3,4,5,6]\n",
        "print(lis)\n",
        "a=lis.pop()\n",
        "lis[:0]=[a]\n",
        "print(lis)\n"
      ],
      "metadata": {
        "id": "exMd61ftUu7F",
        "outputId": "8ae2db53-3b70-49c4-e74a-5efa8987b07e",
        "colab": {
          "base_uri": "https://localhost:8080/"
        }
      },
      "execution_count": null,
      "outputs": [
        {
          "output_type": "stream",
          "name": "stdout",
          "text": [
            "[1, 2, 3, 4, 5, 6]\n",
            "[6, 1, 2, 3, 4, 5]\n"
          ]
        }
      ]
    },
    {
      "cell_type": "code",
      "source": [
        "# # swap sublist over given range\n",
        "# ex=[1,2,3,4,5,6,7,8,9,10] --> range 1:3 and 6:8\n",
        "# output=[1,7,8,4,5,6,2,3,9,10]"
      ],
      "metadata": {
        "id": "3PaliWXrevcZ"
      },
      "execution_count": null,
      "outputs": []
    },
    {
      "cell_type": "code",
      "source": [
        "nums = input(\"Enter a list of numbers with a space between each number: \")\n",
        "lst= list(map(int , nums.split()))\n",
        "print(lst)\n",
        "\n",
        "lst[1:3],lst[6:8] = lst[6:8],lst[1:3]\n",
        "print(lst)"
      ],
      "metadata": {
        "id": "LLYCfn3GevZs",
        "outputId": "e60ce6b4-09bc-4d36-ace1-8cbaea0d7217",
        "colab": {
          "base_uri": "https://localhost:8080/"
        }
      },
      "execution_count": null,
      "outputs": [
        {
          "output_type": "stream",
          "name": "stdout",
          "text": [
            "Enter a list of numbers with a space between each number: 1 2 3 4 5 6 7 8 9 10 11 12 13 41 26 45 98 32 22\n",
            "[1, 2, 3, 4, 5, 6, 7, 8, 9, 10, 11, 12, 13, 41, 26, 45, 98, 32, 22]\n",
            "[1, 7, 8, 4, 5, 6, 2, 3, 9, 10, 11, 12, 13, 41, 26, 45, 98, 32, 22]\n"
          ]
        }
      ]
    },
    {
      "cell_type": "code",
      "source": [
        "## list_1=[[1,2,3],[4,5,6],[1,4,6]]\n",
        "list_1=[[1,2,3],[4,5,6],[1,4,6]]\n",
        "sum_list=[]\n",
        "for i in list_1:\n",
        "    sum_list.append(sum(i))\n",
        "print(sum_list)\n",
        "print(list_1[sum_list.index(max(sum_list))])\n"
      ],
      "metadata": {
        "id": "yVKulY0LevW5",
        "outputId": "a72002c6-4923-4abf-8887-5258010d7056",
        "colab": {
          "base_uri": "https://localhost:8080/"
        }
      },
      "execution_count": null,
      "outputs": [
        {
          "output_type": "stream",
          "name": "stdout",
          "text": [
            "[6, 15, 11]\n",
            "[4, 5, 6]\n"
          ]
        }
      ]
    },
    {
      "cell_type": "markdown",
      "source": [
        "# for loop"
      ],
      "metadata": {
        "id": "YSXgFzvNtFRl"
      }
    },
    {
      "cell_type": "code",
      "source": [
        "lis_1=[1,2,3,4]\n"
      ],
      "metadata": {
        "id": "Wz2VynFTevUK"
      },
      "execution_count": null,
      "outputs": []
    },
    {
      "cell_type": "code",
      "source": [
        "for i in range(0,len(lis_1)):\n",
        "  lis_1[i]=lis_1[i]+1"
      ],
      "metadata": {
        "id": "uG7Qvu2sevMb"
      },
      "execution_count": null,
      "outputs": []
    },
    {
      "cell_type": "code",
      "source": [
        "lis_1"
      ],
      "metadata": {
        "id": "3rwQ8_l-scav",
        "outputId": "76f3620a-2ef1-4d8d-846d-0af62e60f472",
        "colab": {
          "base_uri": "https://localhost:8080/"
        }
      },
      "execution_count": null,
      "outputs": [
        {
          "output_type": "execute_result",
          "data": {
            "text/plain": [
              "[2, 3, 4, 5]"
            ]
          },
          "metadata": {},
          "execution_count": 10
        }
      ]
    },
    {
      "cell_type": "code",
      "source": [
        "for i in range(0,6):\n"
      ],
      "metadata": {
        "id": "rUo1Jl2Cu75g",
        "outputId": "40409136-f6c5-4e5a-b359-34669b7dde58",
        "colab": {
          "base_uri": "https://localhost:8080/"
        }
      },
      "execution_count": null,
      "outputs": [
        {
          "output_type": "stream",
          "name": "stdout",
          "text": [
            "0 1\n",
            "1 2\n",
            "2 3\n",
            "3 4\n",
            "4 5\n",
            "5 6\n"
          ]
        }
      ]
    },
    {
      "cell_type": "code",
      "source": [
        "for i in range(1,5):\n",
        "    for j in range(1,i+1):\n",
        "        print( i,end=\" \")\n",
        "    print()"
      ],
      "metadata": {
        "id": "lma4y3pPu72N",
        "outputId": "bea0bf94-9302-4551-dd12-6f0f45ae6bc7",
        "colab": {
          "base_uri": "https://localhost:8080/"
        }
      },
      "execution_count": null,
      "outputs": [
        {
          "output_type": "stream",
          "name": "stdout",
          "text": [
            "1 \n",
            "2 2 \n",
            "3 3 3 \n",
            "4 4 4 4 \n"
          ]
        }
      ]
    },
    {
      "cell_type": "code",
      "source": [
        "# code to check that number is prime or not\n",
        "num = int(input(\"Enter a number: \"))\n",
        "# prime numbers are greater than 1\n",
        "if num > 1:\n",
        "    # check for factors\n",
        "    for i in range(2,num):\n",
        "         if (num % i) == 0:\n",
        "              print(num,\"is not a prime number\")\n",
        "              print(i,\"times\",num//i,\"is\",num)\n",
        "              break\n",
        "    else:\n",
        "         print(num,\"is a prime number\")\n",
        "# if input number is less than\n",
        "# or equal to 1, it is not prime\n",
        "else:\n",
        "    print(num,\"is not a prime number\")\n"
      ],
      "metadata": {
        "id": "aWKzxmdou7xn",
        "colab": {
          "base_uri": "https://localhost:8080/"
        },
        "outputId": "35984911-40f5-4cc7-a1ed-cf04502724d8"
      },
      "execution_count": null,
      "outputs": [
        {
          "output_type": "stream",
          "name": "stdout",
          "text": [
            "Enter a number: 562\n",
            "562 is not a prime number\n",
            "2 times 281 is 562\n"
          ]
        }
      ]
    },
    {
      "cell_type": "code",
      "source": [
        "# code to write a list of strings in alphabetical order. [\"hello\",\"world\",\"This\",\"is\",\"Tuesday\"]\n",
        "\n",
        "# List of strings\n",
        "str_list = [\"hello\", \"world\", \"This\", \"is\", \"Tuesday\"]\n",
        "\n",
        "# Sort the list in case-insensitive alphabetical order\n",
        "sorted_list = sorted(str_list, key=str.lower)\n",
        "\n",
        "# Print the sorted list\n",
        "print(sorted_list)\n",
        "\n"
      ],
      "metadata": {
        "id": "wxFESRyau7vR",
        "colab": {
          "base_uri": "https://localhost:8080/"
        },
        "outputId": "a3ff6548-5a44-4099-9aec-f489ba316676"
      },
      "execution_count": null,
      "outputs": [
        {
          "output_type": "stream",
          "name": "stdout",
          "text": [
            "['hello', 'is', 'This', 'Tuesday', 'world']\n"
          ]
        }
      ]
    },
    {
      "cell_type": "code",
      "source": [
        "# code to find that the number is odd/even using loops ina a list\n",
        "print(\"using for loop\")\n",
        "list1=[1,2,3,4,5,6,7,8,9,10]\n",
        "for i in list1:\n",
        "    if i%2==0:\n",
        "        print(i,\"is even\")\n",
        "    else:\n",
        "        print(i,\"is odd\")\n",
        "\n",
        "# using while loop\n",
        "print(\"using while loop\")\n",
        "list2=[1,2,3,4,5,6,7,8,9,10]\n",
        "i=0\n",
        "while i<len(list1):\n",
        "    if list1[i]%2==0:\n",
        "        print(list1[i],\"is even\")\n",
        "    else:\n",
        "        print(list1[i],\"is odd\")\n",
        "    i=i+1\n",
        "\n"
      ],
      "metadata": {
        "id": "oNBXfvDKu7s6",
        "colab": {
          "base_uri": "https://localhost:8080/"
        },
        "outputId": "b4ab75ae-70c6-4359-a7ee-e940de1a3d65"
      },
      "execution_count": null,
      "outputs": [
        {
          "output_type": "stream",
          "name": "stdout",
          "text": [
            "using for loop\n",
            "1 is odd\n",
            "2 is even\n",
            "3 is odd\n",
            "4 is even\n",
            "5 is odd\n",
            "6 is even\n",
            "7 is odd\n",
            "8 is even\n",
            "9 is odd\n",
            "10 is even\n",
            "using while loop\n",
            "1 is odd\n",
            "2 is even\n",
            "3 is odd\n",
            "4 is even\n",
            "5 is odd\n",
            "6 is even\n",
            "7 is odd\n",
            "8 is even\n",
            "9 is odd\n",
            "10 is even\n"
          ]
        }
      ]
    },
    {
      "cell_type": "code",
      "source": [
        "# write the multiple of the nmber with total count of loops to be used\n",
        "num=int(input(\"Enter a number: \"))\n",
        "count=int(input(\"Enter the count: \"))\n",
        "for i in range(1,count+1):\n",
        "    print(num,\"*\",i,\"=\",num*i)\n",
        "\n",
        "# find average of n numbers using while loop\n",
        "n=int(input(\"Enter the count: \"))\n",
        "sum=0\n",
        "i=1\n",
        "while i<=n:\n",
        "    sum=sum+i\n",
        "    i=i+1\n",
        "avg=sum/n\n",
        "print(\"Average of\",n,\"numbers is\",avg)\n",
        "\n",
        "# cnvery decimal to binary number  without using inbuilt function\n",
        "num=int(input(\"Enter a number: \"))\n",
        "binary=0\n",
        "i=1\n",
        "while num!=0:\n",
        "    rem=num%2\n",
        "    binary=binary+rem*i\n",
        "    i=i*10\n",
        "    num=num//2\n",
        "print(\"Binary number is\",binary)\n",
        "\n"
      ],
      "metadata": {
        "id": "4dNFEuCPu7qj"
      },
      "execution_count": null,
      "outputs": []
    },
    {
      "cell_type": "code",
      "source": [
        "# print factorial of a nmber\n",
        "n = int(input(\"Enter a number: \"))\n",
        "fact = 1\n",
        "for i in range(1,n+1):\n",
        "    fact = fact * i\n",
        "print(\"Factorial of\",n,\"is\",fact)\n"
      ],
      "metadata": {
        "id": "LWgrumD1u7n0",
        "outputId": "fb071a6c-9db2-467a-920b-6c18db8c3fe9",
        "colab": {
          "base_uri": "https://localhost:8080/"
        }
      },
      "execution_count": null,
      "outputs": [
        {
          "output_type": "stream",
          "name": "stdout",
          "text": [
            "Enter a number: 5\n",
            "Factorial of 5 is 120\n"
          ]
        }
      ]
    },
    {
      "cell_type": "code",
      "source": [
        "# sum of Even and Odd numbers from any data structure\n",
        "a =[]\n",
        "n = int(input(\"Enter the number of elements: \"))\n",
        "for i in range(0,n):\n",
        "    ele = int(input())\n",
        "    a.append(ele)\n",
        "print(\"The list is: \",a)\n",
        "sum_even = 0\n",
        "sum_odd = 0\n",
        "for i in a:\n",
        "    if i%2 == 0:\n",
        "        sum_even = sum_even + i\n",
        "    else:\n",
        "        sum_odd = sum_odd + i\n",
        "print(\"Sum of even numbers is: \",sum_even)\n",
        "print(\"Sum of odd numbers is: \",sum_odd)\n",
        "\n"
      ],
      "metadata": {
        "id": "O7Z5f_WNSGXK",
        "outputId": "e4d5e339-325e-405e-a182-8d517401b9fd",
        "colab": {
          "base_uri": "https://localhost:8080/"
        }
      },
      "execution_count": null,
      "outputs": [
        {
          "output_type": "stream",
          "name": "stdout",
          "text": [
            "Enter the number of elements: 10\n",
            "10\n",
            "1\n",
            "2\n",
            "3\n",
            "4\n",
            "5\n",
            "55\n",
            "76\n",
            "84\n",
            "13\n",
            "The list is:  [10, 1, 2, 3, 4, 5, 55, 76, 84, 13]\n",
            "Sum of even numbers is:  176\n",
            "Sum of odd numbers is:  77\n"
          ]
        }
      ]
    },
    {
      "cell_type": "code",
      "source": [
        "# print the composite numbers from the list (take list from the list)\n",
        "a =[]\n",
        "n = int(input(\"Enter the number of elements: \"))\n",
        "for i in range(0,n):\n",
        "    ele = int(input())\n",
        "    a.append(ele)\n",
        "print(\"The list is: \",a)\n",
        "\n",
        "for i in a:\n",
        "    if i > 1:\n",
        "        for j in range(2,i):\n",
        "            if (i%j) == 0:\n",
        "                print(i,\"is a composite number\")\n",
        "                break\n",
        "        else:\n",
        "            print(i,\"is not a composite number\")\n",
        "    else:\n",
        "        print(i,\"is not a composite number\")\n"
      ],
      "metadata": {
        "id": "YuyWw95nSk5B",
        "outputId": "a128872c-961c-4993-c2af-442ba0665359",
        "colab": {
          "base_uri": "https://localhost:8080/"
        }
      },
      "execution_count": null,
      "outputs": [
        {
          "output_type": "stream",
          "name": "stdout",
          "text": [
            "Enter the number of elements: 10\n",
            "1\n",
            "4\n",
            "7\n",
            "8\n",
            "6\n",
            "10\n",
            "3\n",
            "2\n",
            "99\n",
            "79\n",
            "The list is:  [1, 4, 7, 8, 6, 10, 3, 2, 99, 79]\n",
            "1 is not a composite number\n",
            "4 is a composite number\n",
            "7 is not a composite number\n",
            "8 is a composite number\n",
            "6 is a composite number\n",
            "10 is a composite number\n",
            "3 is not a composite number\n",
            "2 is not a composite number\n",
            "99 is a composite number\n",
            "79 is not a composite number\n"
          ]
        }
      ]
    },
    {
      "cell_type": "code",
      "source": [
        "arr[]"
      ],
      "metadata": {
        "id": "1la_52Ga9i3-"
      },
      "execution_count": null,
      "outputs": []
    },
    {
      "cell_type": "code",
      "source": [],
      "metadata": {
        "id": "ZIqraoV69i0g"
      },
      "execution_count": null,
      "outputs": []
    },
    {
      "cell_type": "code",
      "source": [
        "val = int(input(\"Enter the number of Fibonacci terms: \"))\n",
        "\n",
        "first = 0\n",
        "second = 1\n",
        "fib = 0\n",
        "\n",
        "if val <= 0:\n",
        "    print(\"Please enter a positive integer.\")\n",
        "elif val == 1:\n",
        "    print(\"Fibonacci Series:\")\n",
        "    print(first)\n",
        "else:\n",
        "    print(\"Fibonacci Series:\")\n",
        "    print(first, end=\" \")\n",
        "    print(second, end=\" \")\n",
        "\n",
        "    for i in range(2, val):\n",
        "        fib = first + second\n",
        "        print(fib, end=\" \")\n",
        "        first = second\n",
        "        second = fib\n"
      ],
      "metadata": {
        "id": "tFY4mUOU9ixx",
        "outputId": "27bf3cfb-7753-4bdd-af19-b1316e9db44d",
        "colab": {
          "base_uri": "https://localhost:8080/"
        }
      },
      "execution_count": null,
      "outputs": [
        {
          "output_type": "stream",
          "name": "stdout",
          "text": [
            "Enter the number of Fibonacci terms: 10\n",
            "Fibonacci Series:\n",
            "0 1 1 2 3 5 8 13 21 34 "
          ]
        }
      ]
    },
    {
      "cell_type": "code",
      "source": [
        "c=0\n",
        "a=10\n",
        "i=0\n",
        "while(i<a):\n",
        "  c=c+i\n",
        "  i+=1\n",
        "  print(c)"
      ],
      "metadata": {
        "id": "8xckaGIUAK-W",
        "outputId": "6fe668e2-1cef-415c-a380-2a0f8392082e",
        "colab": {
          "base_uri": "https://localhost:8080/"
        }
      },
      "execution_count": null,
      "outputs": [
        {
          "output_type": "stream",
          "name": "stdout",
          "text": [
            "0\n",
            "1\n",
            "3\n",
            "6\n",
            "10\n",
            "15\n",
            "21\n",
            "28\n",
            "36\n",
            "45\n"
          ]
        }
      ]
    },
    {
      "cell_type": "code",
      "source": [],
      "metadata": {
        "id": "r1zhqQItbAED"
      },
      "execution_count": null,
      "outputs": []
    },
    {
      "cell_type": "code",
      "source": [
        "lis=[]\n",
        "a=int(input(\"enter the number of element shoudl be there in list\"))\n",
        "b=int(input(\"enter the number of element shoudl be there in tuple\"))\n",
        "\n",
        "for i in range(a):\n",
        "  tu=[]\n",
        "  for j in range(b):\n",
        "\n",
        "    num1=int(input(\"enter=\"))\n",
        "    tu.append(num1)\n",
        "  tu=tuple(tu)\n",
        "  lis.append(tu)\n",
        "\n",
        "print(lis)\n",
        "# enter the index\n",
        "index=int(input(\"enter the index\"))\n",
        "len_lis=len(lis) # 3\n",
        "\n",
        "new=[]\n",
        "new2=[]\n",
        "# to find difference\n",
        "for i in range(len_lis-1):\n",
        "  t = lis[i][index]\n",
        "  t_next = lis[i + 1][index]\n",
        "  diff = t_next - t\n",
        "  new2.append(diff)\n",
        "new2=tuple(new2)\n",
        "new.append(new2)\n",
        "new"
      ],
      "metadata": {
        "id": "2MjMFPQdU83A",
        "outputId": "c4e74d14-f6cf-4564-a4ae-fd74f3e20e0c",
        "colab": {
          "base_uri": "https://localhost:8080/"
        }
      },
      "execution_count": null,
      "outputs": [
        {
          "name": "stdout",
          "output_type": "stream",
          "text": [
            "enter the number of element shoudl be there in list3\n",
            "enter the number of element shoudl be there in tuple3\n",
            "enter=1\n",
            "enter=2\n",
            "enter=3\n",
            "enter=4\n",
            "enter=5\n",
            "enter=6\n",
            "enter=7\n",
            "enter=8\n",
            "enter=9\n",
            "[(1, 2, 3), (4, 5, 6), (7, 8, 9)]\n",
            "enter the index0\n"
          ]
        },
        {
          "output_type": "execute_result",
          "data": {
            "text/plain": [
              "[(3, 3)]"
            ]
          },
          "metadata": {},
          "execution_count": 14
        }
      ]
    },
    {
      "cell_type": "code",
      "source": [
        "# cube\n",
        "tu=[]\n",
        "a=int(input(\"enter the number=\"))\n",
        "for i in range(a):\n",
        "  b=int(input(\"enter the number=\"))\n",
        "  cube=b**3\n",
        "  tu.append((b,cube))\n",
        "print(tu)"
      ],
      "metadata": {
        "id": "5zEDfuJlU80Z",
        "outputId": "33f9be8f-1088-47b9-d9cd-4b3f850cfc44",
        "colab": {
          "base_uri": "https://localhost:8080/"
        }
      },
      "execution_count": null,
      "outputs": [
        {
          "output_type": "stream",
          "name": "stdout",
          "text": [
            "enter the number=4\n",
            "enter the number=2\n",
            "enter the number=3\n",
            "enter the number=4\n",
            "enter the number=5\n",
            "[(2, 8), (3, 27), (4, 64), (5, 125)]\n"
          ]
        }
      ]
    },
    {
      "cell_type": "code",
      "source": [
        "def uncommon_words(A, B):\n",
        "    # Split the input strings into words\n",
        "    words_A = set(A.split())\n",
        "    words_B = set(B.split())\n",
        "\n",
        "    # Find the uncommon words by taking the symmetric difference of the two sets\n",
        "    uncommon = list(words_A.symmetric_difference(words_B))\n",
        "\n",
        "    return uncommon\n",
        "\n",
        "# Example usage:\n",
        "A = \"Hey, there! Maryland is Beautiful\"\n",
        "B = \"Beautiful things are awesome\"\n",
        "result = uncommon_words(A, B)\n",
        "print(result)\n"
      ],
      "metadata": {
        "id": "2C90PshDU8yo",
        "outputId": "59c35836-6fbb-436f-c7f3-05df17cfd052",
        "colab": {
          "base_uri": "https://localhost:8080/"
        }
      },
      "execution_count": null,
      "outputs": [
        {
          "output_type": "stream",
          "name": "stdout",
          "text": [
            "['is', 'Maryland', 'Hey,', 'there!', 'Beautiful']\n"
          ]
        }
      ]
    },
    {
      "cell_type": "code",
      "source": [
        "def has_pythagorean_triplet(nums):\n",
        "    nums.sort()  # Sort the input array\n",
        "\n",
        "    for i in range(len(nums) - 2):\n",
        "        a = nums[i]\n",
        "        b = nums[i+1]\n",
        "        c = nums[i+2]\n",
        "\n",
        "        # Check if a^2 + b^2 = c^2\n",
        "        if a*a + b*b == c*c:\n",
        "            return True\n",
        "\n",
        "    return False\n",
        "\n",
        "# Example usage:\n",
        "input_nums = [3, 1, 4, 6, 5]\n",
        "result = has_pythagorean_triplet(input_nums)\n",
        "print(result)\n"
      ],
      "metadata": {
        "id": "AAp5SWhofKOj",
        "outputId": "38a53965-10e0-4651-de6e-3b3fca168a08",
        "colab": {
          "base_uri": "https://localhost:8080/"
        }
      },
      "execution_count": null,
      "outputs": [
        {
          "output_type": "stream",
          "name": "stdout",
          "text": [
            "True\n"
          ]
        }
      ]
    },
    {
      "cell_type": "code",
      "source": [
        "\n",
        "\n",
        "def check(lst):\n",
        "  lst.sort()\n",
        "  a=lst[0]*lst[0]\n",
        "  b=lst[1]*lst[1]\n",
        "  c=lst[2]*lst[2]\n",
        "\n",
        "  if a+b==c:\n",
        "    return True\n",
        "  else:\n",
        "    return False\n",
        "\n",
        "pytha=[]\n",
        "for i in range(3):\n",
        "  a=int(input(\"enter the number=\"))\n",
        "  pytha.append(a)\n",
        "res=check(pytha)\n",
        "print(res)"
      ],
      "metadata": {
        "id": "IF26RsiWlCvo",
        "outputId": "5c52e002-5b32-48b9-efa0-ba15c1b13f00",
        "colab": {
          "base_uri": "https://localhost:8080/"
        }
      },
      "execution_count": null,
      "outputs": [
        {
          "output_type": "stream",
          "name": "stdout",
          "text": [
            "enter the number=3\n",
            "enter the number=6\n",
            "enter the number=9\n",
            "False\n"
          ]
        }
      ]
    },
    {
      "cell_type": "code",
      "source": [
        "5\n",
        "\n",
        "# [1,2,3] output[6,3,2]\n",
        "ele=int(input(\"enter the total element you want in list=\"))\n",
        "lst=[]\n",
        "for i in range(ele):\n",
        "  a=int(input(\"->\"))\n",
        "  lst.append(a)\n",
        "print(lst)\n",
        "tmep=[]\n",
        "for i in range(ele):\n",
        "  prd=1\n",
        "  for j in range(ele):\n",
        "    if lst[i]==lst[j]:\n",
        "      continue\n",
        "    else:\n",
        "      prd=prd*lst[j]\n",
        "  tmep.append(prd)\n",
        "print(tmep)"
      ],
      "metadata": {
        "id": "UUZageFzfKMi",
        "outputId": "0c259f5c-13c2-44b5-83da-98210e0fe171",
        "colab": {
          "base_uri": "https://localhost:8080/"
        }
      },
      "execution_count": null,
      "outputs": [
        {
          "output_type": "stream",
          "name": "stdout",
          "text": [
            "enter the total element you want in list=5\n",
            "->1\n",
            "->2\n",
            "->3\n",
            "->4\n",
            "->5\n",
            "[1, 2, 3, 4, 5]\n",
            "[120, 60, 40, 30, 24]\n"
          ]
        }
      ]
    },
    {
      "cell_type": "markdown",
      "source": [
        "# create a list with numbers having 10,20,30,40,25 as input and output should be 4030252010\n"
      ],
      "metadata": {
        "id": "O4RDXXEgZQLC"
      }
    },
    {
      "cell_type": "code",
      "source": [
        "def chnage(list_here):\n",
        "  a = sorted(list_here, reverse=True)\n",
        "  print(a)\n",
        "  s=\"\"\n",
        "  for i in a:\n",
        "    s=s+str(i)\n",
        "  return s\n",
        "\n",
        "a=[10,20,30,40,25]\n",
        "print(chnage(a))"
      ],
      "metadata": {
        "id": "NBvyiUn2fKKD",
        "outputId": "5ead602d-e2f7-4c4e-82f5-12303bd08b54",
        "colab": {
          "base_uri": "https://localhost:8080/"
        }
      },
      "execution_count": 17,
      "outputs": [
        {
          "output_type": "stream",
          "name": "stdout",
          "text": [
            "[40, 30, 25, 20, 10]\n",
            "4030252010\n"
          ]
        }
      ]
    },
    {
      "cell_type": "code",
      "source": [
        "a=[10,20,30,40,25,1,34,54,323,7,73,12]\n",
        "a = sorted(a, reverse=True)\n",
        "print(a)\n",
        "\n",
        "for i in a:\n",
        "  print(i,end=\"\")\n"
      ],
      "metadata": {
        "id": "vUlwAW0BfKHr",
        "outputId": "8c2fd817-9231-4f18-b23f-53a5ad752fae",
        "colab": {
          "base_uri": "https://localhost:8080/"
        }
      },
      "execution_count": 20,
      "outputs": [
        {
          "output_type": "stream",
          "name": "stdout",
          "text": [
            "[323, 73, 54, 40, 34, 30, 25, 20, 12, 10, 7, 1]\n",
            "32373544034302520121071"
          ]
        }
      ]
    },
    {
      "cell_type": "code",
      "source": [
        "double = lambda u:ord(u)\n",
        "double(\"a\")"
      ],
      "metadata": {
        "id": "G51kzZPufKCt",
        "outputId": "f1eb5a9b-c6f9-479f-abd4-6799a5332a4e",
        "colab": {
          "base_uri": "https://localhost:8080/"
        }
      },
      "execution_count": 23,
      "outputs": [
        {
          "output_type": "execute_result",
          "data": {
            "text/plain": [
              "97"
            ]
          },
          "metadata": {},
          "execution_count": 23
        }
      ]
    },
    {
      "cell_type": "code",
      "source": [
        "list1=[1,2,3,4,5]\n",
        "square = list(map(lambda x:x**2,list1))\n",
        "print(square)"
      ],
      "metadata": {
        "id": "xc9zNs8IU8wG",
        "outputId": "96c7daeb-217f-48ff-bce4-2d79221e34dd",
        "colab": {
          "base_uri": "https://localhost:8080/"
        }
      },
      "execution_count": 24,
      "outputs": [
        {
          "output_type": "stream",
          "name": "stdout",
          "text": [
            "[1, 4, 9, 16, 25]\n"
          ]
        }
      ]
    },
    {
      "cell_type": "code",
      "source": [
        "char=[\"banana\",\"apple\",\"dates\",\"cherry\"]\n",
        "print(len(char))\n",
        "d=lambda u:sorted(u)\n",
        "d(char)\n"
      ],
      "metadata": {
        "id": "A1HePu_VU8rn",
        "outputId": "7903fcf2-f272-4dd3-fbf4-d2b108c50852",
        "colab": {
          "base_uri": "https://localhost:8080/"
        }
      },
      "execution_count": 32,
      "outputs": [
        {
          "output_type": "stream",
          "name": "stdout",
          "text": [
            "4\n"
          ]
        },
        {
          "output_type": "execute_result",
          "data": {
            "text/plain": [
              "['apple', 'banana', 'cherry', 'dates']"
            ]
          },
          "metadata": {},
          "execution_count": 32
        }
      ]
    },
    {
      "cell_type": "code",
      "source": [
        "#sort elemert using second element\n",
        "# ex:[(2,31),(1,30),(12,1)]\n",
        "# output=(12,1),(1,30),(2,31)\n",
        "\n",
        "l=[(2,31),(1,30),(12,3)]\n",
        "l1=[]\n",
        "for i in l:\n",
        "  for j in range(len(i)):\n",
        "    l1.append(j[1])\n",
        "print(l1)"
      ],
      "metadata": {
        "id": "EyUSSwnljW7X",
        "outputId": "73012f84-4622-411e-a6d9-a0b7aa5d01e8",
        "colab": {
          "base_uri": "https://localhost:8080/",
          "height": 227
        }
      },
      "execution_count": 36,
      "outputs": [
        {
          "output_type": "error",
          "ename": "TypeError",
          "evalue": "ignored",
          "traceback": [
            "\u001b[0;31m---------------------------------------------------------------------------\u001b[0m",
            "\u001b[0;31mTypeError\u001b[0m                                 Traceback (most recent call last)",
            "\u001b[0;32m<ipython-input-36-b5b96667270e>\u001b[0m in \u001b[0;36m<cell line: 7>\u001b[0;34m()\u001b[0m\n\u001b[1;32m      7\u001b[0m \u001b[0;32mfor\u001b[0m \u001b[0mi\u001b[0m \u001b[0;32min\u001b[0m \u001b[0ml\u001b[0m\u001b[0;34m:\u001b[0m\u001b[0;34m\u001b[0m\u001b[0;34m\u001b[0m\u001b[0m\n\u001b[1;32m      8\u001b[0m   \u001b[0;32mfor\u001b[0m \u001b[0mj\u001b[0m \u001b[0;32min\u001b[0m \u001b[0mrange\u001b[0m\u001b[0;34m(\u001b[0m\u001b[0mlen\u001b[0m\u001b[0;34m(\u001b[0m\u001b[0mi\u001b[0m\u001b[0;34m)\u001b[0m\u001b[0;34m)\u001b[0m\u001b[0;34m:\u001b[0m\u001b[0;34m\u001b[0m\u001b[0;34m\u001b[0m\u001b[0m\n\u001b[0;32m----> 9\u001b[0;31m     \u001b[0ml1\u001b[0m\u001b[0;34m.\u001b[0m\u001b[0mappend\u001b[0m\u001b[0;34m(\u001b[0m\u001b[0mj\u001b[0m\u001b[0;34m[\u001b[0m\u001b[0;36m1\u001b[0m\u001b[0;34m]\u001b[0m\u001b[0;34m)\u001b[0m\u001b[0;34m\u001b[0m\u001b[0;34m\u001b[0m\u001b[0m\n\u001b[0m\u001b[1;32m     10\u001b[0m \u001b[0mprint\u001b[0m\u001b[0;34m(\u001b[0m\u001b[0ml1\u001b[0m\u001b[0;34m)\u001b[0m\u001b[0;34m\u001b[0m\u001b[0;34m\u001b[0m\u001b[0m\n",
            "\u001b[0;31mTypeError\u001b[0m: 'int' object is not subscriptable"
          ]
        }
      ]
    },
    {
      "cell_type": "code",
      "source": [
        "# calc square of even number\n",
        "# find student with highest marks from dictionary\n"
      ],
      "metadata": {
        "id": "CG6rtendkLPz"
      },
      "execution_count": null,
      "outputs": []
    },
    {
      "cell_type": "code",
      "source": [],
      "metadata": {
        "id": "x0b68g4KkLMW"
      },
      "execution_count": null,
      "outputs": []
    },
    {
      "cell_type": "code",
      "source": [],
      "metadata": {
        "id": "B27NbgUGkLJ9"
      },
      "execution_count": null,
      "outputs": []
    },
    {
      "cell_type": "code",
      "source": [],
      "metadata": {
        "id": "FYTbcOqtkLHc"
      },
      "execution_count": null,
      "outputs": []
    },
    {
      "cell_type": "code",
      "source": [],
      "metadata": {
        "id": "79sV2W4pkLFN"
      },
      "execution_count": null,
      "outputs": []
    },
    {
      "cell_type": "code",
      "source": [],
      "metadata": {
        "id": "PQf0J1VZkLCx"
      },
      "execution_count": null,
      "outputs": []
    },
    {
      "cell_type": "code",
      "source": [],
      "metadata": {
        "id": "qTKoMPKskLAV"
      },
      "execution_count": null,
      "outputs": []
    }
  ]
}